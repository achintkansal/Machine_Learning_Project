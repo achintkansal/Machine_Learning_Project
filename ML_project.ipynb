{
  "nbformat": 4,
  "nbformat_minor": 0,
  "metadata": {
    "colab": {
      "provenance": []
    },
    "kernelspec": {
      "name": "python3",
      "display_name": "Python 3"
    },
    "language_info": {
      "name": "python"
    }
  },
  "cells": [
    {
      "cell_type": "markdown",
      "source": [
        "**Deep Learning Model for classification of an unbalanced data set.**\n"
      ],
      "metadata": {
        "id": "GocxP_sNRYR7"
      }
    },
    {
      "cell_type": "markdown",
      "source": [
        "Resampling techniques for improving classification performance in unbalanced datasets."
      ],
      "metadata": {
        "id": "aowHlemfRcjW"
      }
    },
    {
      "cell_type": "code",
      "source": [
        "import pandas as pd\n",
        "from matplotlib import pyplot as plt\n",
        "import numpy as np"
      ],
      "metadata": {
        "id": "amTFlSQeTHlv"
      },
      "execution_count": null,
      "outputs": []
    },
    {
      "cell_type": "code",
      "source": [
        "from google.colab import drive\n",
        "drive.mount('/content/dataSets_coLab')"
      ],
      "metadata": {
        "id": "fEtwaZ9HXPD2",
        "colab": {
          "base_uri": "https://localhost:8080/"
        },
        "outputId": "8e1d544b-edc7-48be-a02b-32fa272f2e6d"
      },
      "execution_count": null,
      "outputs": [
        {
          "output_type": "stream",
          "name": "stdout",
          "text": [
            "Mounted at /content/dataSets_coLab\n"
          ]
        }
      ]
    },
    {
      "cell_type": "code",
      "source": [
        "df = pd.read_csv('/content/dataSets_coLab/MyDrive/DataSets_Colab/customer_churn.csv')\n",
        "df.sample(5)"
      ],
      "metadata": {
        "colab": {
          "base_uri": "https://localhost:8080/",
          "height": 369
        },
        "id": "nhflOVRzTd9_",
        "outputId": "1f852780-3b16-4623-f002-ea95cfc2ffe8"
      },
      "execution_count": null,
      "outputs": [
        {
          "output_type": "execute_result",
          "data": {
            "text/plain": [
              "      customerID  gender  SeniorCitizen Partner Dependents  tenure  \\\n",
              "1711  9964-WBQDJ  Female              0     Yes         No      71   \n",
              "213   4709-LKHYG  Female              0     Yes        Yes      29   \n",
              "5764  0716-BQNDX    Male              1      No         No      57   \n",
              "2780  4404-HIBDJ  Female              0      No         No      25   \n",
              "5264  9309-BZGNT    Male              1     Yes         No      69   \n",
              "\n",
              "     PhoneService     MultipleLines InternetService       OnlineSecurity  ...  \\\n",
              "1711          Yes               Yes              No  No internet service  ...   \n",
              "213           Yes                No              No  No internet service  ...   \n",
              "5764          Yes               Yes     Fiber optic                  Yes  ...   \n",
              "2780          Yes                No             DSL                  Yes  ...   \n",
              "5264           No  No phone service             DSL                   No  ...   \n",
              "\n",
              "         DeviceProtection          TechSupport          StreamingTV  \\\n",
              "1711  No internet service  No internet service  No internet service   \n",
              "213   No internet service  No internet service  No internet service   \n",
              "5764                   No                  Yes                   No   \n",
              "2780                  Yes                  Yes                  Yes   \n",
              "5264                  Yes                   No                   No   \n",
              "\n",
              "          StreamingMovies  Contract PaperlessBilling            PaymentMethod  \\\n",
              "1711  No internet service  Two year              Yes  Credit card (automatic)   \n",
              "213   No internet service  One year               No         Electronic check   \n",
              "5764                  Yes  Two year               No         Electronic check   \n",
              "2780                   No  One year               No             Mailed check   \n",
              "5264                   No  One year              Yes  Credit card (automatic)   \n",
              "\n",
              "     MonthlyCharges  TotalCharges Churn  \n",
              "1711          24.40        1725.4    No  \n",
              "213           20.00        540.05    No  \n",
              "5764          93.75       5625.55    No  \n",
              "2780          74.30        1863.8   Yes  \n",
              "5264          29.80        2134.3    No  \n",
              "\n",
              "[5 rows x 21 columns]"
            ],
            "text/html": [
              "\n",
              "  <div id=\"df-8cd55d3b-1929-4e4e-b42b-58346f31e782\">\n",
              "    <div class=\"colab-df-container\">\n",
              "      <div>\n",
              "<style scoped>\n",
              "    .dataframe tbody tr th:only-of-type {\n",
              "        vertical-align: middle;\n",
              "    }\n",
              "\n",
              "    .dataframe tbody tr th {\n",
              "        vertical-align: top;\n",
              "    }\n",
              "\n",
              "    .dataframe thead th {\n",
              "        text-align: right;\n",
              "    }\n",
              "</style>\n",
              "<table border=\"1\" class=\"dataframe\">\n",
              "  <thead>\n",
              "    <tr style=\"text-align: right;\">\n",
              "      <th></th>\n",
              "      <th>customerID</th>\n",
              "      <th>gender</th>\n",
              "      <th>SeniorCitizen</th>\n",
              "      <th>Partner</th>\n",
              "      <th>Dependents</th>\n",
              "      <th>tenure</th>\n",
              "      <th>PhoneService</th>\n",
              "      <th>MultipleLines</th>\n",
              "      <th>InternetService</th>\n",
              "      <th>OnlineSecurity</th>\n",
              "      <th>...</th>\n",
              "      <th>DeviceProtection</th>\n",
              "      <th>TechSupport</th>\n",
              "      <th>StreamingTV</th>\n",
              "      <th>StreamingMovies</th>\n",
              "      <th>Contract</th>\n",
              "      <th>PaperlessBilling</th>\n",
              "      <th>PaymentMethod</th>\n",
              "      <th>MonthlyCharges</th>\n",
              "      <th>TotalCharges</th>\n",
              "      <th>Churn</th>\n",
              "    </tr>\n",
              "  </thead>\n",
              "  <tbody>\n",
              "    <tr>\n",
              "      <th>1711</th>\n",
              "      <td>9964-WBQDJ</td>\n",
              "      <td>Female</td>\n",
              "      <td>0</td>\n",
              "      <td>Yes</td>\n",
              "      <td>No</td>\n",
              "      <td>71</td>\n",
              "      <td>Yes</td>\n",
              "      <td>Yes</td>\n",
              "      <td>No</td>\n",
              "      <td>No internet service</td>\n",
              "      <td>...</td>\n",
              "      <td>No internet service</td>\n",
              "      <td>No internet service</td>\n",
              "      <td>No internet service</td>\n",
              "      <td>No internet service</td>\n",
              "      <td>Two year</td>\n",
              "      <td>Yes</td>\n",
              "      <td>Credit card (automatic)</td>\n",
              "      <td>24.40</td>\n",
              "      <td>1725.4</td>\n",
              "      <td>No</td>\n",
              "    </tr>\n",
              "    <tr>\n",
              "      <th>213</th>\n",
              "      <td>4709-LKHYG</td>\n",
              "      <td>Female</td>\n",
              "      <td>0</td>\n",
              "      <td>Yes</td>\n",
              "      <td>Yes</td>\n",
              "      <td>29</td>\n",
              "      <td>Yes</td>\n",
              "      <td>No</td>\n",
              "      <td>No</td>\n",
              "      <td>No internet service</td>\n",
              "      <td>...</td>\n",
              "      <td>No internet service</td>\n",
              "      <td>No internet service</td>\n",
              "      <td>No internet service</td>\n",
              "      <td>No internet service</td>\n",
              "      <td>One year</td>\n",
              "      <td>No</td>\n",
              "      <td>Electronic check</td>\n",
              "      <td>20.00</td>\n",
              "      <td>540.05</td>\n",
              "      <td>No</td>\n",
              "    </tr>\n",
              "    <tr>\n",
              "      <th>5764</th>\n",
              "      <td>0716-BQNDX</td>\n",
              "      <td>Male</td>\n",
              "      <td>1</td>\n",
              "      <td>No</td>\n",
              "      <td>No</td>\n",
              "      <td>57</td>\n",
              "      <td>Yes</td>\n",
              "      <td>Yes</td>\n",
              "      <td>Fiber optic</td>\n",
              "      <td>Yes</td>\n",
              "      <td>...</td>\n",
              "      <td>No</td>\n",
              "      <td>Yes</td>\n",
              "      <td>No</td>\n",
              "      <td>Yes</td>\n",
              "      <td>Two year</td>\n",
              "      <td>No</td>\n",
              "      <td>Electronic check</td>\n",
              "      <td>93.75</td>\n",
              "      <td>5625.55</td>\n",
              "      <td>No</td>\n",
              "    </tr>\n",
              "    <tr>\n",
              "      <th>2780</th>\n",
              "      <td>4404-HIBDJ</td>\n",
              "      <td>Female</td>\n",
              "      <td>0</td>\n",
              "      <td>No</td>\n",
              "      <td>No</td>\n",
              "      <td>25</td>\n",
              "      <td>Yes</td>\n",
              "      <td>No</td>\n",
              "      <td>DSL</td>\n",
              "      <td>Yes</td>\n",
              "      <td>...</td>\n",
              "      <td>Yes</td>\n",
              "      <td>Yes</td>\n",
              "      <td>Yes</td>\n",
              "      <td>No</td>\n",
              "      <td>One year</td>\n",
              "      <td>No</td>\n",
              "      <td>Mailed check</td>\n",
              "      <td>74.30</td>\n",
              "      <td>1863.8</td>\n",
              "      <td>Yes</td>\n",
              "    </tr>\n",
              "    <tr>\n",
              "      <th>5264</th>\n",
              "      <td>9309-BZGNT</td>\n",
              "      <td>Male</td>\n",
              "      <td>1</td>\n",
              "      <td>Yes</td>\n",
              "      <td>No</td>\n",
              "      <td>69</td>\n",
              "      <td>No</td>\n",
              "      <td>No phone service</td>\n",
              "      <td>DSL</td>\n",
              "      <td>No</td>\n",
              "      <td>...</td>\n",
              "      <td>Yes</td>\n",
              "      <td>No</td>\n",
              "      <td>No</td>\n",
              "      <td>No</td>\n",
              "      <td>One year</td>\n",
              "      <td>Yes</td>\n",
              "      <td>Credit card (automatic)</td>\n",
              "      <td>29.80</td>\n",
              "      <td>2134.3</td>\n",
              "      <td>No</td>\n",
              "    </tr>\n",
              "  </tbody>\n",
              "</table>\n",
              "<p>5 rows × 21 columns</p>\n",
              "</div>\n",
              "      <button class=\"colab-df-convert\" onclick=\"convertToInteractive('df-8cd55d3b-1929-4e4e-b42b-58346f31e782')\"\n",
              "              title=\"Convert this dataframe to an interactive table.\"\n",
              "              style=\"display:none;\">\n",
              "        \n",
              "  <svg xmlns=\"http://www.w3.org/2000/svg\" height=\"24px\"viewBox=\"0 0 24 24\"\n",
              "       width=\"24px\">\n",
              "    <path d=\"M0 0h24v24H0V0z\" fill=\"none\"/>\n",
              "    <path d=\"M18.56 5.44l.94 2.06.94-2.06 2.06-.94-2.06-.94-.94-2.06-.94 2.06-2.06.94zm-11 1L8.5 8.5l.94-2.06 2.06-.94-2.06-.94L8.5 2.5l-.94 2.06-2.06.94zm10 10l.94 2.06.94-2.06 2.06-.94-2.06-.94-.94-2.06-.94 2.06-2.06.94z\"/><path d=\"M17.41 7.96l-1.37-1.37c-.4-.4-.92-.59-1.43-.59-.52 0-1.04.2-1.43.59L10.3 9.45l-7.72 7.72c-.78.78-.78 2.05 0 2.83L4 21.41c.39.39.9.59 1.41.59.51 0 1.02-.2 1.41-.59l7.78-7.78 2.81-2.81c.8-.78.8-2.07 0-2.86zM5.41 20L4 18.59l7.72-7.72 1.47 1.35L5.41 20z\"/>\n",
              "  </svg>\n",
              "      </button>\n",
              "      \n",
              "  <style>\n",
              "    .colab-df-container {\n",
              "      display:flex;\n",
              "      flex-wrap:wrap;\n",
              "      gap: 12px;\n",
              "    }\n",
              "\n",
              "    .colab-df-convert {\n",
              "      background-color: #E8F0FE;\n",
              "      border: none;\n",
              "      border-radius: 50%;\n",
              "      cursor: pointer;\n",
              "      display: none;\n",
              "      fill: #1967D2;\n",
              "      height: 32px;\n",
              "      padding: 0 0 0 0;\n",
              "      width: 32px;\n",
              "    }\n",
              "\n",
              "    .colab-df-convert:hover {\n",
              "      background-color: #E2EBFA;\n",
              "      box-shadow: 0px 1px 2px rgba(60, 64, 67, 0.3), 0px 1px 3px 1px rgba(60, 64, 67, 0.15);\n",
              "      fill: #174EA6;\n",
              "    }\n",
              "\n",
              "    [theme=dark] .colab-df-convert {\n",
              "      background-color: #3B4455;\n",
              "      fill: #D2E3FC;\n",
              "    }\n",
              "\n",
              "    [theme=dark] .colab-df-convert:hover {\n",
              "      background-color: #434B5C;\n",
              "      box-shadow: 0px 1px 3px 1px rgba(0, 0, 0, 0.15);\n",
              "      filter: drop-shadow(0px 1px 2px rgba(0, 0, 0, 0.3));\n",
              "      fill: #FFFFFF;\n",
              "    }\n",
              "  </style>\n",
              "\n",
              "      <script>\n",
              "        const buttonEl =\n",
              "          document.querySelector('#df-8cd55d3b-1929-4e4e-b42b-58346f31e782 button.colab-df-convert');\n",
              "        buttonEl.style.display =\n",
              "          google.colab.kernel.accessAllowed ? 'block' : 'none';\n",
              "\n",
              "        async function convertToInteractive(key) {\n",
              "          const element = document.querySelector('#df-8cd55d3b-1929-4e4e-b42b-58346f31e782');\n",
              "          const dataTable =\n",
              "            await google.colab.kernel.invokeFunction('convertToInteractive',\n",
              "                                                     [key], {});\n",
              "          if (!dataTable) return;\n",
              "\n",
              "          const docLinkHtml = 'Like what you see? Visit the ' +\n",
              "            '<a target=\"_blank\" href=https://colab.research.google.com/notebooks/data_table.ipynb>data table notebook</a>'\n",
              "            + ' to learn more about interactive tables.';\n",
              "          element.innerHTML = '';\n",
              "          dataTable['output_type'] = 'display_data';\n",
              "          await google.colab.output.renderOutput(dataTable, element);\n",
              "          const docLink = document.createElement('div');\n",
              "          docLink.innerHTML = docLinkHtml;\n",
              "          element.appendChild(docLink);\n",
              "        }\n",
              "      </script>\n",
              "    </div>\n",
              "  </div>\n",
              "  "
            ]
          },
          "metadata": {},
          "execution_count": 3
        }
      ]
    },
    {
      "cell_type": "code",
      "source": [
        "df.Churn.value_counts()"
      ],
      "metadata": {
        "colab": {
          "base_uri": "https://localhost:8080/"
        },
        "id": "d6J_Tk8vcE-k",
        "outputId": "1bd1c91c-5e07-4bc7-d9dc-bf20ce6ece58"
      },
      "execution_count": null,
      "outputs": [
        {
          "output_type": "execute_result",
          "data": {
            "text/plain": [
              "No     5174\n",
              "Yes    1869\n",
              "Name: Churn, dtype: int64"
            ]
          },
          "metadata": {},
          "execution_count": 4
        }
      ]
    },
    {
      "cell_type": "markdown",
      "source": [
        "***Data Cleaning***"
      ],
      "metadata": {
        "id": "WY1_0GdJfhoy"
      }
    },
    {
      "cell_type": "code",
      "source": [
        "df1 = df[df.TotalCharges!=' ']\n",
        "df1.shape"
      ],
      "metadata": {
        "colab": {
          "base_uri": "https://localhost:8080/"
        },
        "id": "Z6nPduJqfQ61",
        "outputId": "9fb1e5fd-020a-4273-c3d4-a646aef1b9c0"
      },
      "execution_count": null,
      "outputs": [
        {
          "output_type": "execute_result",
          "data": {
            "text/plain": [
              "(7032, 21)"
            ]
          },
          "metadata": {},
          "execution_count": 5
        }
      ]
    },
    {
      "cell_type": "code",
      "source": [
        "df1.TotalCharges = pd.to_numeric(df1.TotalCharges)\n"
      ],
      "metadata": {
        "id": "RD2HxwJFfvV7",
        "colab": {
          "base_uri": "https://localhost:8080/"
        },
        "outputId": "c525b46b-c140-4a0f-9b25-d0df6fb2ee91"
      },
      "execution_count": null,
      "outputs": [
        {
          "output_type": "stream",
          "name": "stderr",
          "text": [
            "/usr/local/lib/python3.7/dist-packages/pandas/core/generic.py:5516: SettingWithCopyWarning: \n",
            "A value is trying to be set on a copy of a slice from a DataFrame.\n",
            "Try using .loc[row_indexer,col_indexer] = value instead\n",
            "\n",
            "See the caveats in the documentation: https://pandas.pydata.org/pandas-docs/stable/user_guide/indexing.html#returning-a-view-versus-a-copy\n",
            "  self[name] = value\n"
          ]
        }
      ]
    },
    {
      "cell_type": "code",
      "source": [
        "df1.TotalCharges.values\n"
      ],
      "metadata": {
        "colab": {
          "base_uri": "https://localhost:8080/"
        },
        "id": "boOPhtjzf5xY",
        "outputId": "6416816f-7893-4dca-ec63-9ae238708695"
      },
      "execution_count": null,
      "outputs": [
        {
          "output_type": "execute_result",
          "data": {
            "text/plain": [
              "array([  29.85, 1889.5 ,  108.15, ...,  346.45,  306.6 , 6844.5 ])"
            ]
          },
          "metadata": {},
          "execution_count": 7
        }
      ]
    },
    {
      "cell_type": "code",
      "source": [
        "df1.replace('No internet service','No',inplace=True)\n",
        "df1.replace('No phone service','No',inplace=True)"
      ],
      "metadata": {
        "id": "ZWdurtGVgId0",
        "colab": {
          "base_uri": "https://localhost:8080/"
        },
        "outputId": "f89a59a1-de90-407d-ee21-52c9443415ea"
      },
      "execution_count": null,
      "outputs": [
        {
          "output_type": "stream",
          "name": "stderr",
          "text": [
            "/usr/local/lib/python3.7/dist-packages/pandas/core/frame.py:5244: SettingWithCopyWarning: \n",
            "A value is trying to be set on a copy of a slice from a DataFrame\n",
            "\n",
            "See the caveats in the documentation: https://pandas.pydata.org/pandas-docs/stable/user_guide/indexing.html#returning-a-view-versus-a-copy\n",
            "  method=method,\n"
          ]
        }
      ]
    },
    {
      "cell_type": "markdown",
      "source": [
        "**Convert Yes and No to 1 or 0**"
      ],
      "metadata": {
        "id": "kXUgxpnHgd33"
      }
    },
    {
      "cell_type": "code",
      "source": [
        "yes_no_columns = ['Partner','Dependents','PhoneService','MultipleLines','OnlineSecurity','OnlineBackup',\n",
        "                  'DeviceProtection','TechSupport','StreamingTV','StreamingMovies','PaperlessBilling','Churn']\n",
        "for col in yes_no_columns:\n",
        "    df1[col].replace({'Yes': 1,'No': 0},inplace=True)"
      ],
      "metadata": {
        "id": "A_pdg_ohgLJe",
        "colab": {
          "base_uri": "https://localhost:8080/"
        },
        "outputId": "bf591b15-73f2-4d8f-97c3-767c120e3618"
      },
      "execution_count": null,
      "outputs": [
        {
          "output_type": "stream",
          "name": "stderr",
          "text": [
            "/usr/local/lib/python3.7/dist-packages/pandas/core/generic.py:6619: SettingWithCopyWarning: \n",
            "A value is trying to be set on a copy of a slice from a DataFrame\n",
            "\n",
            "See the caveats in the documentation: https://pandas.pydata.org/pandas-docs/stable/user_guide/indexing.html#returning-a-view-versus-a-copy\n",
            "  return self._update_inplace(result)\n"
          ]
        }
      ]
    },
    {
      "cell_type": "markdown",
      "source": [
        "**Checking if  YES NO is converted to 1 0**"
      ],
      "metadata": {
        "id": "_OVbKiA6gznh"
      }
    },
    {
      "cell_type": "code",
      "source": [
        "for col in df1:\n",
        "    print(f'{col}: {df1[col].unique()}')"
      ],
      "metadata": {
        "colab": {
          "base_uri": "https://localhost:8080/"
        },
        "id": "0CsmXqEsgLB7",
        "outputId": "c6dd2bc6-10d1-413d-a6cb-fc40e5eba258"
      },
      "execution_count": null,
      "outputs": [
        {
          "output_type": "stream",
          "name": "stdout",
          "text": [
            "customerID: ['7590-VHVEG' '5575-GNVDE' '3668-QPYBK' ... '4801-JZAZL' '8361-LTMKD'\n",
            " '3186-AJIEK']\n",
            "gender: ['Female' 'Male']\n",
            "SeniorCitizen: [0 1]\n",
            "Partner: [1 0]\n",
            "Dependents: [0 1]\n",
            "tenure: [ 1 34  2 45  8 22 10 28 62 13 16 58 49 25 69 52 71 21 12 30 47 72 17 27\n",
            "  5 46 11 70 63 43 15 60 18 66  9  3 31 50 64 56  7 42 35 48 29 65 38 68\n",
            " 32 55 37 36 41  6  4 33 67 23 57 61 14 20 53 40 59 24 44 19 54 51 26 39]\n",
            "PhoneService: [0 1]\n",
            "MultipleLines: [0 1]\n",
            "InternetService: ['DSL' 'Fiber optic' 'No']\n",
            "OnlineSecurity: [0 1]\n",
            "OnlineBackup: [1 0]\n",
            "DeviceProtection: [0 1]\n",
            "TechSupport: [0 1]\n",
            "StreamingTV: [0 1]\n",
            "StreamingMovies: [0 1]\n",
            "Contract: ['Month-to-month' 'One year' 'Two year']\n",
            "PaperlessBilling: [1 0]\n",
            "PaymentMethod: ['Electronic check' 'Mailed check' 'Bank transfer (automatic)'\n",
            " 'Credit card (automatic)']\n",
            "MonthlyCharges: [29.85 56.95 53.85 ... 63.1  44.2  78.7 ]\n",
            "TotalCharges: [  29.85 1889.5   108.15 ...  346.45  306.6  6844.5 ]\n",
            "Churn: [0 1]\n"
          ]
        }
      ]
    },
    {
      "cell_type": "code",
      "source": [
        "df1['gender'].replace({'Female':1,'Male':0},inplace=True)"
      ],
      "metadata": {
        "id": "G3aDzJFVg_2r"
      },
      "execution_count": null,
      "outputs": []
    },
    {
      "cell_type": "code",
      "source": [
        "df2 = pd.get_dummies(data=df1, columns=['InternetService','Contract','PaymentMethod'])\n",
        "df2.sample(5)"
      ],
      "metadata": {
        "colab": {
          "base_uri": "https://localhost:8080/",
          "height": 421
        },
        "id": "Oz1z1AXjh2o8",
        "outputId": "ab3a2717-9c71-401d-afb6-bd023271f8a0"
      },
      "execution_count": null,
      "outputs": [
        {
          "output_type": "execute_result",
          "data": {
            "text/plain": [
              "      customerID  gender  SeniorCitizen  Partner  Dependents  tenure  \\\n",
              "4020  4334-HOWRP       0              1        1           0      72   \n",
              "6689  8561-NMTBD       1              0        1           1      67   \n",
              "1101  4712-UYOOI       1              0        1           1      20   \n",
              "4213  3683-QKIUE       1              0        0           0       6   \n",
              "3714  7306-YDSOI       0              0        1           1      69   \n",
              "\n",
              "      PhoneService  MultipleLines  OnlineSecurity  OnlineBackup  ...  \\\n",
              "4020             0              0               1             1  ...   \n",
              "6689             1              1               0             1  ...   \n",
              "1101             1              0               0             0  ...   \n",
              "4213             1              0               0             0  ...   \n",
              "3714             1              0               1             1  ...   \n",
              "\n",
              "      InternetService_DSL  InternetService_Fiber optic  InternetService_No  \\\n",
              "4020                    1                            0                   0   \n",
              "6689                    0                            1                   0   \n",
              "1101                    0                            0                   1   \n",
              "4213                    1                            0                   0   \n",
              "3714                    1                            0                   0   \n",
              "\n",
              "      Contract_Month-to-month  Contract_One year  Contract_Two year  \\\n",
              "4020                        0                  0                  1   \n",
              "6689                        0                  1                  0   \n",
              "1101                        1                  0                  0   \n",
              "4213                        1                  0                  0   \n",
              "3714                        0                  0                  1   \n",
              "\n",
              "      PaymentMethod_Bank transfer (automatic)  \\\n",
              "4020                                        0   \n",
              "6689                                        0   \n",
              "1101                                        0   \n",
              "4213                                        1   \n",
              "3714                                        1   \n",
              "\n",
              "      PaymentMethod_Credit card (automatic)  PaymentMethod_Electronic check  \\\n",
              "4020                                      1                               0   \n",
              "6689                                      1                               0   \n",
              "1101                                      0                               1   \n",
              "4213                                      0                               0   \n",
              "3714                                      0                               0   \n",
              "\n",
              "      PaymentMethod_Mailed check  \n",
              "4020                           0  \n",
              "6689                           0  \n",
              "1101                           0  \n",
              "4213                           0  \n",
              "3714                           0  \n",
              "\n",
              "[5 rows x 28 columns]"
            ],
            "text/html": [
              "\n",
              "  <div id=\"df-09e161c5-2e23-497a-b499-bb7855d145dd\">\n",
              "    <div class=\"colab-df-container\">\n",
              "      <div>\n",
              "<style scoped>\n",
              "    .dataframe tbody tr th:only-of-type {\n",
              "        vertical-align: middle;\n",
              "    }\n",
              "\n",
              "    .dataframe tbody tr th {\n",
              "        vertical-align: top;\n",
              "    }\n",
              "\n",
              "    .dataframe thead th {\n",
              "        text-align: right;\n",
              "    }\n",
              "</style>\n",
              "<table border=\"1\" class=\"dataframe\">\n",
              "  <thead>\n",
              "    <tr style=\"text-align: right;\">\n",
              "      <th></th>\n",
              "      <th>customerID</th>\n",
              "      <th>gender</th>\n",
              "      <th>SeniorCitizen</th>\n",
              "      <th>Partner</th>\n",
              "      <th>Dependents</th>\n",
              "      <th>tenure</th>\n",
              "      <th>PhoneService</th>\n",
              "      <th>MultipleLines</th>\n",
              "      <th>OnlineSecurity</th>\n",
              "      <th>OnlineBackup</th>\n",
              "      <th>...</th>\n",
              "      <th>InternetService_DSL</th>\n",
              "      <th>InternetService_Fiber optic</th>\n",
              "      <th>InternetService_No</th>\n",
              "      <th>Contract_Month-to-month</th>\n",
              "      <th>Contract_One year</th>\n",
              "      <th>Contract_Two year</th>\n",
              "      <th>PaymentMethod_Bank transfer (automatic)</th>\n",
              "      <th>PaymentMethod_Credit card (automatic)</th>\n",
              "      <th>PaymentMethod_Electronic check</th>\n",
              "      <th>PaymentMethod_Mailed check</th>\n",
              "    </tr>\n",
              "  </thead>\n",
              "  <tbody>\n",
              "    <tr>\n",
              "      <th>4020</th>\n",
              "      <td>4334-HOWRP</td>\n",
              "      <td>0</td>\n",
              "      <td>1</td>\n",
              "      <td>1</td>\n",
              "      <td>0</td>\n",
              "      <td>72</td>\n",
              "      <td>0</td>\n",
              "      <td>0</td>\n",
              "      <td>1</td>\n",
              "      <td>1</td>\n",
              "      <td>...</td>\n",
              "      <td>1</td>\n",
              "      <td>0</td>\n",
              "      <td>0</td>\n",
              "      <td>0</td>\n",
              "      <td>0</td>\n",
              "      <td>1</td>\n",
              "      <td>0</td>\n",
              "      <td>1</td>\n",
              "      <td>0</td>\n",
              "      <td>0</td>\n",
              "    </tr>\n",
              "    <tr>\n",
              "      <th>6689</th>\n",
              "      <td>8561-NMTBD</td>\n",
              "      <td>1</td>\n",
              "      <td>0</td>\n",
              "      <td>1</td>\n",
              "      <td>1</td>\n",
              "      <td>67</td>\n",
              "      <td>1</td>\n",
              "      <td>1</td>\n",
              "      <td>0</td>\n",
              "      <td>1</td>\n",
              "      <td>...</td>\n",
              "      <td>0</td>\n",
              "      <td>1</td>\n",
              "      <td>0</td>\n",
              "      <td>0</td>\n",
              "      <td>1</td>\n",
              "      <td>0</td>\n",
              "      <td>0</td>\n",
              "      <td>1</td>\n",
              "      <td>0</td>\n",
              "      <td>0</td>\n",
              "    </tr>\n",
              "    <tr>\n",
              "      <th>1101</th>\n",
              "      <td>4712-UYOOI</td>\n",
              "      <td>1</td>\n",
              "      <td>0</td>\n",
              "      <td>1</td>\n",
              "      <td>1</td>\n",
              "      <td>20</td>\n",
              "      <td>1</td>\n",
              "      <td>0</td>\n",
              "      <td>0</td>\n",
              "      <td>0</td>\n",
              "      <td>...</td>\n",
              "      <td>0</td>\n",
              "      <td>0</td>\n",
              "      <td>1</td>\n",
              "      <td>1</td>\n",
              "      <td>0</td>\n",
              "      <td>0</td>\n",
              "      <td>0</td>\n",
              "      <td>0</td>\n",
              "      <td>1</td>\n",
              "      <td>0</td>\n",
              "    </tr>\n",
              "    <tr>\n",
              "      <th>4213</th>\n",
              "      <td>3683-QKIUE</td>\n",
              "      <td>1</td>\n",
              "      <td>0</td>\n",
              "      <td>0</td>\n",
              "      <td>0</td>\n",
              "      <td>6</td>\n",
              "      <td>1</td>\n",
              "      <td>0</td>\n",
              "      <td>0</td>\n",
              "      <td>0</td>\n",
              "      <td>...</td>\n",
              "      <td>1</td>\n",
              "      <td>0</td>\n",
              "      <td>0</td>\n",
              "      <td>1</td>\n",
              "      <td>0</td>\n",
              "      <td>0</td>\n",
              "      <td>1</td>\n",
              "      <td>0</td>\n",
              "      <td>0</td>\n",
              "      <td>0</td>\n",
              "    </tr>\n",
              "    <tr>\n",
              "      <th>3714</th>\n",
              "      <td>7306-YDSOI</td>\n",
              "      <td>0</td>\n",
              "      <td>0</td>\n",
              "      <td>1</td>\n",
              "      <td>1</td>\n",
              "      <td>69</td>\n",
              "      <td>1</td>\n",
              "      <td>0</td>\n",
              "      <td>1</td>\n",
              "      <td>1</td>\n",
              "      <td>...</td>\n",
              "      <td>1</td>\n",
              "      <td>0</td>\n",
              "      <td>0</td>\n",
              "      <td>0</td>\n",
              "      <td>0</td>\n",
              "      <td>1</td>\n",
              "      <td>1</td>\n",
              "      <td>0</td>\n",
              "      <td>0</td>\n",
              "      <td>0</td>\n",
              "    </tr>\n",
              "  </tbody>\n",
              "</table>\n",
              "<p>5 rows × 28 columns</p>\n",
              "</div>\n",
              "      <button class=\"colab-df-convert\" onclick=\"convertToInteractive('df-09e161c5-2e23-497a-b499-bb7855d145dd')\"\n",
              "              title=\"Convert this dataframe to an interactive table.\"\n",
              "              style=\"display:none;\">\n",
              "        \n",
              "  <svg xmlns=\"http://www.w3.org/2000/svg\" height=\"24px\"viewBox=\"0 0 24 24\"\n",
              "       width=\"24px\">\n",
              "    <path d=\"M0 0h24v24H0V0z\" fill=\"none\"/>\n",
              "    <path d=\"M18.56 5.44l.94 2.06.94-2.06 2.06-.94-2.06-.94-.94-2.06-.94 2.06-2.06.94zm-11 1L8.5 8.5l.94-2.06 2.06-.94-2.06-.94L8.5 2.5l-.94 2.06-2.06.94zm10 10l.94 2.06.94-2.06 2.06-.94-2.06-.94-.94-2.06-.94 2.06-2.06.94z\"/><path d=\"M17.41 7.96l-1.37-1.37c-.4-.4-.92-.59-1.43-.59-.52 0-1.04.2-1.43.59L10.3 9.45l-7.72 7.72c-.78.78-.78 2.05 0 2.83L4 21.41c.39.39.9.59 1.41.59.51 0 1.02-.2 1.41-.59l7.78-7.78 2.81-2.81c.8-.78.8-2.07 0-2.86zM5.41 20L4 18.59l7.72-7.72 1.47 1.35L5.41 20z\"/>\n",
              "  </svg>\n",
              "      </button>\n",
              "      \n",
              "  <style>\n",
              "    .colab-df-container {\n",
              "      display:flex;\n",
              "      flex-wrap:wrap;\n",
              "      gap: 12px;\n",
              "    }\n",
              "\n",
              "    .colab-df-convert {\n",
              "      background-color: #E8F0FE;\n",
              "      border: none;\n",
              "      border-radius: 50%;\n",
              "      cursor: pointer;\n",
              "      display: none;\n",
              "      fill: #1967D2;\n",
              "      height: 32px;\n",
              "      padding: 0 0 0 0;\n",
              "      width: 32px;\n",
              "    }\n",
              "\n",
              "    .colab-df-convert:hover {\n",
              "      background-color: #E2EBFA;\n",
              "      box-shadow: 0px 1px 2px rgba(60, 64, 67, 0.3), 0px 1px 3px 1px rgba(60, 64, 67, 0.15);\n",
              "      fill: #174EA6;\n",
              "    }\n",
              "\n",
              "    [theme=dark] .colab-df-convert {\n",
              "      background-color: #3B4455;\n",
              "      fill: #D2E3FC;\n",
              "    }\n",
              "\n",
              "    [theme=dark] .colab-df-convert:hover {\n",
              "      background-color: #434B5C;\n",
              "      box-shadow: 0px 1px 3px 1px rgba(0, 0, 0, 0.15);\n",
              "      filter: drop-shadow(0px 1px 2px rgba(0, 0, 0, 0.3));\n",
              "      fill: #FFFFFF;\n",
              "    }\n",
              "  </style>\n",
              "\n",
              "      <script>\n",
              "        const buttonEl =\n",
              "          document.querySelector('#df-09e161c5-2e23-497a-b499-bb7855d145dd button.colab-df-convert');\n",
              "        buttonEl.style.display =\n",
              "          google.colab.kernel.accessAllowed ? 'block' : 'none';\n",
              "\n",
              "        async function convertToInteractive(key) {\n",
              "          const element = document.querySelector('#df-09e161c5-2e23-497a-b499-bb7855d145dd');\n",
              "          const dataTable =\n",
              "            await google.colab.kernel.invokeFunction('convertToInteractive',\n",
              "                                                     [key], {});\n",
              "          if (!dataTable) return;\n",
              "\n",
              "          const docLinkHtml = 'Like what you see? Visit the ' +\n",
              "            '<a target=\"_blank\" href=https://colab.research.google.com/notebooks/data_table.ipynb>data table notebook</a>'\n",
              "            + ' to learn more about interactive tables.';\n",
              "          element.innerHTML = '';\n",
              "          dataTable['output_type'] = 'display_data';\n",
              "          await google.colab.output.renderOutput(dataTable, element);\n",
              "          const docLink = document.createElement('div');\n",
              "          docLink.innerHTML = docLinkHtml;\n",
              "          element.appendChild(docLink);\n",
              "        }\n",
              "      </script>\n",
              "    </div>\n",
              "  </div>\n",
              "  "
            ]
          },
          "metadata": {},
          "execution_count": 12
        }
      ]
    },
    {
      "cell_type": "code",
      "source": [
        "df2.drop('customerID',axis='columns',inplace=True)"
      ],
      "metadata": {
        "id": "NE2G5WZsiehW"
      },
      "execution_count": null,
      "outputs": []
    },
    {
      "cell_type": "code",
      "source": [
        "X = df2.drop('Churn',axis='columns')\n",
        "y = testLabels = df2.Churn.astype(np.float32)\n",
        "from sklearn.model_selection import train_test_split\n",
        "X_train, X_test, y_train, y_test = train_test_split(X, y, test_size=0.2, random_state=15, stratify=y)\n"
      ],
      "metadata": {
        "id": "AO7oODMQihxG"
      },
      "execution_count": null,
      "outputs": []
    },
    {
      "cell_type": "code",
      "source": [
        "y_train.value_counts()\n"
      ],
      "metadata": {
        "colab": {
          "base_uri": "https://localhost:8080/"
        },
        "id": "cOMF1QmxjF8V",
        "outputId": "60abd9d2-a12a-4ba0-c056-f4c430fcbd94"
      },
      "execution_count": null,
      "outputs": [
        {
          "output_type": "execute_result",
          "data": {
            "text/plain": [
              "0.0    4130\n",
              "1.0    1495\n",
              "Name: Churn, dtype: int64"
            ]
          },
          "metadata": {},
          "execution_count": 15
        }
      ]
    },
    {
      "cell_type": "code",
      "source": [
        "y.value_counts()"
      ],
      "metadata": {
        "colab": {
          "base_uri": "https://localhost:8080/"
        },
        "id": "fSB8r-2D3G1d",
        "outputId": "27d40339-cb25-4410-bf65-0b3b25aacc37"
      },
      "execution_count": null,
      "outputs": [
        {
          "output_type": "execute_result",
          "data": {
            "text/plain": [
              "0.0    5163\n",
              "1.0    1869\n",
              "Name: Churn, dtype: int64"
            ]
          },
          "metadata": {},
          "execution_count": 16
        }
      ]
    },
    {
      "cell_type": "markdown",
      "source": [
        "Calculating the ratio of Data Samples"
      ],
      "metadata": {
        "id": "obskDT5S3sOk"
      }
    },
    {
      "cell_type": "code",
      "source": [
        "5163/1869"
      ],
      "metadata": {
        "colab": {
          "base_uri": "https://localhost:8080/"
        },
        "id": "Z09IrKxp3Ook",
        "outputId": "d8d09bd9-03bf-4dc7-9530-abc7a35f0921"
      },
      "execution_count": null,
      "outputs": [
        {
          "output_type": "execute_result",
          "data": {
            "text/plain": [
              "2.7624398073836276"
            ]
          },
          "metadata": {},
          "execution_count": 17
        }
      ]
    },
    {
      "cell_type": "markdown",
      "source": [
        "**Build a model (ANN) in tensorflow/keras**"
      ],
      "metadata": {
        "id": "s0dzQ4xxk5Cl"
      }
    },
    {
      "cell_type": "code",
      "source": [
        "pip install tensorflow-addons"
      ],
      "metadata": {
        "colab": {
          "base_uri": "https://localhost:8080/"
        },
        "id": "auhMpmllmV02",
        "outputId": "9f544d1d-a63b-4fed-fc55-4c6ce87ee9d6"
      },
      "execution_count": null,
      "outputs": [
        {
          "output_type": "stream",
          "name": "stdout",
          "text": [
            "Looking in indexes: https://pypi.org/simple, https://us-python.pkg.dev/colab-wheels/public/simple/\n",
            "Collecting tensorflow-addons\n",
            "  Downloading tensorflow_addons-0.18.0-cp37-cp37m-manylinux_2_17_x86_64.manylinux2014_x86_64.whl (1.1 MB)\n",
            "\u001b[K     |████████████████████████████████| 1.1 MB 5.8 MB/s \n",
            "\u001b[?25hRequirement already satisfied: packaging in /usr/local/lib/python3.7/dist-packages (from tensorflow-addons) (21.3)\n",
            "Requirement already satisfied: typeguard>=2.7 in /usr/local/lib/python3.7/dist-packages (from tensorflow-addons) (2.7.1)\n",
            "Requirement already satisfied: pyparsing!=3.0.5,>=2.0.2 in /usr/local/lib/python3.7/dist-packages (from packaging->tensorflow-addons) (3.0.9)\n",
            "Installing collected packages: tensorflow-addons\n",
            "Successfully installed tensorflow-addons-0.18.0\n"
          ]
        }
      ]
    },
    {
      "cell_type": "code",
      "source": [
        "from tensorflow_addons import losses"
      ],
      "metadata": {
        "id": "1HyVx2tzmxh2"
      },
      "execution_count": null,
      "outputs": []
    },
    {
      "cell_type": "code",
      "source": [
        "import tensorflow as tf\n",
        "from tensorflow import keras\n",
        "from sklearn.metrics import confusion_matrix , classification_report"
      ],
      "metadata": {
        "id": "yq36CW44m5-B"
      },
      "execution_count": null,
      "outputs": []
    },
    {
      "cell_type": "code",
      "source": [
        "def ANN(X_train, y_train, X_test, y_test, loss, weights):\n",
        "    model = keras.Sequential([\n",
        "        keras.layers.Dense(26, input_dim=26, activation='relu'),\n",
        "        keras.layers.Dense(15, activation='relu'),\n",
        "        keras.layers.Dense(1, activation='sigmoid')\n",
        "    ])\n",
        "\n",
        "    model.compile(optimizer='adam', loss=loss, metrics=['accuracy'])\n",
        "\n",
        "    if weights == -1:\n",
        "        model.fit(X_train, y_train, epochs=100)\n",
        "    else:\n",
        "        model.fit(X_train, y_train, epochs=100, class_weight = weights)\n",
        "\n",
        "    print(model.evaluate(X_test, y_test))\n",
        "\n",
        "    y_preds = model.predict(X_test)\n",
        "    y_preds = np.round(y_preds)\n",
        "\n",
        "    print(\"Classification Report: \\n\", classification_report(y_test, y_preds))\n",
        "\n",
        "    return y_preds"
      ],
      "metadata": {
        "id": "CeTbbWKNnTJP"
      },
      "execution_count": null,
      "outputs": []
    },
    {
      "cell_type": "code",
      "source": [
        "y_preds = ANN(X_train, y_train, X_test, y_test, 'binary_crossentropy', -1)"
      ],
      "metadata": {
        "colab": {
          "base_uri": "https://localhost:8080/"
        },
        "id": "EVWXs6Fon4qZ",
        "outputId": "e3409aa8-8e43-40ba-f71c-e562e65e8f41"
      },
      "execution_count": null,
      "outputs": [
        {
          "output_type": "stream",
          "name": "stdout",
          "text": [
            "Epoch 1/100\n",
            "176/176 [==============================] - 2s 3ms/step - loss: 4.6506 - accuracy: 0.6076\n",
            "Epoch 2/100\n",
            "176/176 [==============================] - 1s 4ms/step - loss: 0.9931 - accuracy: 0.7221\n",
            "Epoch 3/100\n",
            "176/176 [==============================] - 1s 4ms/step - loss: 1.4500 - accuracy: 0.7380\n",
            "Epoch 4/100\n",
            "176/176 [==============================] - 1s 5ms/step - loss: 1.0138 - accuracy: 0.7460\n",
            "Epoch 5/100\n",
            "176/176 [==============================] - 1s 3ms/step - loss: 0.8862 - accuracy: 0.7552\n",
            "Epoch 6/100\n",
            "176/176 [==============================] - 1s 4ms/step - loss: 1.0795 - accuracy: 0.7541\n",
            "Epoch 7/100\n",
            "176/176 [==============================] - 1s 4ms/step - loss: 1.0066 - accuracy: 0.7602\n",
            "Epoch 8/100\n",
            "176/176 [==============================] - 1s 4ms/step - loss: 1.0426 - accuracy: 0.7573\n",
            "Epoch 9/100\n",
            "176/176 [==============================] - 1s 7ms/step - loss: 0.9328 - accuracy: 0.7509\n",
            "Epoch 10/100\n",
            "176/176 [==============================] - 1s 7ms/step - loss: 0.8265 - accuracy: 0.7568\n",
            "Epoch 11/100\n",
            "176/176 [==============================] - 1s 8ms/step - loss: 0.9435 - accuracy: 0.7563\n",
            "Epoch 12/100\n",
            "176/176 [==============================] - 1s 7ms/step - loss: 0.7923 - accuracy: 0.7650\n",
            "Epoch 13/100\n",
            "176/176 [==============================] - 1s 5ms/step - loss: 0.6721 - accuracy: 0.7673\n",
            "Epoch 14/100\n",
            "176/176 [==============================] - 1s 6ms/step - loss: 0.9401 - accuracy: 0.7532\n",
            "Epoch 15/100\n",
            "176/176 [==============================] - 1s 6ms/step - loss: 0.7268 - accuracy: 0.7675\n",
            "Epoch 16/100\n",
            "176/176 [==============================] - 1s 6ms/step - loss: 1.5156 - accuracy: 0.7497\n",
            "Epoch 17/100\n",
            "176/176 [==============================] - 1s 6ms/step - loss: 1.1853 - accuracy: 0.7513\n",
            "Epoch 18/100\n",
            "176/176 [==============================] - 1s 6ms/step - loss: 0.7912 - accuracy: 0.7652\n",
            "Epoch 19/100\n",
            "176/176 [==============================] - 1s 6ms/step - loss: 1.0576 - accuracy: 0.7604\n",
            "Epoch 20/100\n",
            "176/176 [==============================] - 1s 6ms/step - loss: 0.9826 - accuracy: 0.7572\n",
            "Epoch 21/100\n",
            "176/176 [==============================] - 1s 6ms/step - loss: 0.7183 - accuracy: 0.7684\n",
            "Epoch 22/100\n",
            "176/176 [==============================] - 1s 6ms/step - loss: 0.8605 - accuracy: 0.7644\n",
            "Epoch 23/100\n",
            "176/176 [==============================] - 1s 5ms/step - loss: 0.8598 - accuracy: 0.7662\n",
            "Epoch 24/100\n",
            "176/176 [==============================] - 1s 6ms/step - loss: 0.8145 - accuracy: 0.7637\n",
            "Epoch 25/100\n",
            "176/176 [==============================] - 1s 5ms/step - loss: 0.7500 - accuracy: 0.7755\n",
            "Epoch 26/100\n",
            "176/176 [==============================] - 1s 5ms/step - loss: 1.1715 - accuracy: 0.7659\n",
            "Epoch 27/100\n",
            "176/176 [==============================] - 1s 6ms/step - loss: 0.9140 - accuracy: 0.7648\n",
            "Epoch 28/100\n",
            "176/176 [==============================] - 1s 7ms/step - loss: 1.0161 - accuracy: 0.7545\n",
            "Epoch 29/100\n",
            "176/176 [==============================] - 1s 6ms/step - loss: 0.8384 - accuracy: 0.7669\n",
            "Epoch 30/100\n",
            "176/176 [==============================] - 1s 5ms/step - loss: 0.8574 - accuracy: 0.7616\n",
            "Epoch 31/100\n",
            "176/176 [==============================] - 0s 3ms/step - loss: 0.9608 - accuracy: 0.7655\n",
            "Epoch 32/100\n",
            "176/176 [==============================] - 0s 2ms/step - loss: 0.7516 - accuracy: 0.7632\n",
            "Epoch 33/100\n",
            "176/176 [==============================] - 0s 2ms/step - loss: 0.7604 - accuracy: 0.7627\n",
            "Epoch 34/100\n",
            "176/176 [==============================] - 0s 2ms/step - loss: 0.6755 - accuracy: 0.7746\n",
            "Epoch 35/100\n",
            "176/176 [==============================] - 0s 3ms/step - loss: 0.9571 - accuracy: 0.7655\n",
            "Epoch 36/100\n",
            "176/176 [==============================] - 0s 3ms/step - loss: 0.6444 - accuracy: 0.7692\n",
            "Epoch 37/100\n",
            "176/176 [==============================] - 1s 3ms/step - loss: 1.0016 - accuracy: 0.7646\n",
            "Epoch 38/100\n",
            "176/176 [==============================] - 1s 3ms/step - loss: 0.8849 - accuracy: 0.7616\n",
            "Epoch 39/100\n",
            "176/176 [==============================] - 0s 3ms/step - loss: 0.7998 - accuracy: 0.7664\n",
            "Epoch 40/100\n",
            "176/176 [==============================] - 0s 3ms/step - loss: 0.6025 - accuracy: 0.7767\n",
            "Epoch 41/100\n",
            "176/176 [==============================] - 0s 3ms/step - loss: 0.6488 - accuracy: 0.7753\n",
            "Epoch 42/100\n",
            "176/176 [==============================] - 0s 3ms/step - loss: 1.0572 - accuracy: 0.7527\n",
            "Epoch 43/100\n",
            "176/176 [==============================] - 0s 3ms/step - loss: 1.0406 - accuracy: 0.7506\n",
            "Epoch 44/100\n",
            "176/176 [==============================] - 0s 3ms/step - loss: 0.6281 - accuracy: 0.7794\n",
            "Epoch 45/100\n",
            "176/176 [==============================] - 1s 3ms/step - loss: 0.8834 - accuracy: 0.7655\n",
            "Epoch 46/100\n",
            "176/176 [==============================] - 0s 3ms/step - loss: 0.6658 - accuracy: 0.7696\n",
            "Epoch 47/100\n",
            "176/176 [==============================] - 0s 3ms/step - loss: 0.6248 - accuracy: 0.7804\n",
            "Epoch 48/100\n",
            "176/176 [==============================] - 0s 3ms/step - loss: 0.6769 - accuracy: 0.7668\n",
            "Epoch 49/100\n",
            "176/176 [==============================] - 0s 3ms/step - loss: 0.7930 - accuracy: 0.7669\n",
            "Epoch 50/100\n",
            "176/176 [==============================] - 0s 2ms/step - loss: 0.8614 - accuracy: 0.7648\n",
            "Epoch 51/100\n",
            "176/176 [==============================] - 0s 3ms/step - loss: 0.8418 - accuracy: 0.7712\n",
            "Epoch 52/100\n",
            "176/176 [==============================] - 1s 4ms/step - loss: 0.6582 - accuracy: 0.7723\n",
            "Epoch 53/100\n",
            "176/176 [==============================] - 1s 5ms/step - loss: 0.7167 - accuracy: 0.7705\n",
            "Epoch 54/100\n",
            "176/176 [==============================] - 1s 4ms/step - loss: 0.9228 - accuracy: 0.7612\n",
            "Epoch 55/100\n",
            "176/176 [==============================] - 1s 4ms/step - loss: 0.7187 - accuracy: 0.7646\n",
            "Epoch 56/100\n",
            "176/176 [==============================] - 1s 3ms/step - loss: 0.6958 - accuracy: 0.7723\n",
            "Epoch 57/100\n",
            "176/176 [==============================] - 0s 2ms/step - loss: 0.8642 - accuracy: 0.7614\n",
            "Epoch 58/100\n",
            "176/176 [==============================] - 1s 3ms/step - loss: 1.2828 - accuracy: 0.7554\n",
            "Epoch 59/100\n",
            "176/176 [==============================] - 0s 3ms/step - loss: 0.6360 - accuracy: 0.7740\n",
            "Epoch 60/100\n",
            "176/176 [==============================] - 1s 3ms/step - loss: 0.6105 - accuracy: 0.7764\n",
            "Epoch 61/100\n",
            "176/176 [==============================] - 1s 3ms/step - loss: 0.8255 - accuracy: 0.7739\n",
            "Epoch 62/100\n",
            "176/176 [==============================] - 1s 3ms/step - loss: 0.7403 - accuracy: 0.7692\n",
            "Epoch 63/100\n",
            "176/176 [==============================] - 1s 3ms/step - loss: 0.7391 - accuracy: 0.7669\n",
            "Epoch 64/100\n",
            "176/176 [==============================] - 1s 3ms/step - loss: 1.0272 - accuracy: 0.7511\n",
            "Epoch 65/100\n",
            "176/176 [==============================] - 1s 3ms/step - loss: 0.7923 - accuracy: 0.7705\n",
            "Epoch 66/100\n",
            "176/176 [==============================] - 1s 3ms/step - loss: 0.6495 - accuracy: 0.7739\n",
            "Epoch 67/100\n",
            "176/176 [==============================] - 1s 3ms/step - loss: 0.5564 - accuracy: 0.7822\n",
            "Epoch 68/100\n",
            "176/176 [==============================] - 1s 3ms/step - loss: 0.5809 - accuracy: 0.7751\n",
            "Epoch 69/100\n",
            "176/176 [==============================] - 0s 3ms/step - loss: 0.8086 - accuracy: 0.7643\n",
            "Epoch 70/100\n",
            "176/176 [==============================] - 1s 3ms/step - loss: 0.6289 - accuracy: 0.7836\n",
            "Epoch 71/100\n",
            "176/176 [==============================] - 0s 3ms/step - loss: 0.8079 - accuracy: 0.7639\n",
            "Epoch 72/100\n",
            "176/176 [==============================] - 0s 3ms/step - loss: 0.6337 - accuracy: 0.7813\n",
            "Epoch 73/100\n",
            "176/176 [==============================] - 0s 3ms/step - loss: 0.7280 - accuracy: 0.7716\n",
            "Epoch 74/100\n",
            "176/176 [==============================] - 1s 3ms/step - loss: 0.5597 - accuracy: 0.7817\n",
            "Epoch 75/100\n",
            "176/176 [==============================] - 1s 3ms/step - loss: 0.8135 - accuracy: 0.7676\n",
            "Epoch 76/100\n",
            "176/176 [==============================] - 1s 3ms/step - loss: 0.5540 - accuracy: 0.7801\n",
            "Epoch 77/100\n",
            "176/176 [==============================] - 0s 3ms/step - loss: 0.6604 - accuracy: 0.7724\n",
            "Epoch 78/100\n",
            "176/176 [==============================] - 1s 3ms/step - loss: 0.7183 - accuracy: 0.7726\n",
            "Epoch 79/100\n",
            "176/176 [==============================] - 1s 3ms/step - loss: 0.5294 - accuracy: 0.7820\n",
            "Epoch 80/100\n",
            "176/176 [==============================] - 0s 3ms/step - loss: 0.5081 - accuracy: 0.7822\n",
            "Epoch 81/100\n",
            "176/176 [==============================] - 0s 3ms/step - loss: 0.6664 - accuracy: 0.7696\n",
            "Epoch 82/100\n",
            "176/176 [==============================] - 1s 3ms/step - loss: 0.7568 - accuracy: 0.7700\n",
            "Epoch 83/100\n",
            "176/176 [==============================] - 1s 3ms/step - loss: 0.5982 - accuracy: 0.7781\n",
            "Epoch 84/100\n",
            "176/176 [==============================] - 1s 3ms/step - loss: 0.6985 - accuracy: 0.7740\n",
            "Epoch 85/100\n",
            "176/176 [==============================] - 1s 3ms/step - loss: 0.6060 - accuracy: 0.7868\n",
            "Epoch 86/100\n",
            "176/176 [==============================] - 1s 3ms/step - loss: 0.5740 - accuracy: 0.7764\n",
            "Epoch 87/100\n",
            "176/176 [==============================] - 1s 3ms/step - loss: 0.6081 - accuracy: 0.7733\n",
            "Epoch 88/100\n",
            "176/176 [==============================] - 1s 3ms/step - loss: 0.6819 - accuracy: 0.7714\n",
            "Epoch 89/100\n",
            "176/176 [==============================] - 1s 3ms/step - loss: 0.5411 - accuracy: 0.7739\n",
            "Epoch 90/100\n",
            "176/176 [==============================] - 0s 3ms/step - loss: 0.5618 - accuracy: 0.7812\n",
            "Epoch 91/100\n",
            "176/176 [==============================] - 0s 3ms/step - loss: 0.5144 - accuracy: 0.7801\n",
            "Epoch 92/100\n",
            "176/176 [==============================] - 0s 3ms/step - loss: 0.6388 - accuracy: 0.7721\n",
            "Epoch 93/100\n",
            "176/176 [==============================] - 1s 3ms/step - loss: 0.4652 - accuracy: 0.7915\n",
            "Epoch 94/100\n",
            "176/176 [==============================] - 0s 3ms/step - loss: 0.5725 - accuracy: 0.7790\n",
            "Epoch 95/100\n",
            "176/176 [==============================] - 0s 3ms/step - loss: 0.5051 - accuracy: 0.7904\n",
            "Epoch 96/100\n",
            "176/176 [==============================] - 0s 3ms/step - loss: 0.6256 - accuracy: 0.7716\n",
            "Epoch 97/100\n",
            "176/176 [==============================] - 0s 3ms/step - loss: 0.7510 - accuracy: 0.7646\n",
            "Epoch 98/100\n",
            "176/176 [==============================] - 0s 3ms/step - loss: 0.4946 - accuracy: 0.7801\n",
            "Epoch 99/100\n",
            "176/176 [==============================] - 0s 3ms/step - loss: 0.5248 - accuracy: 0.7824\n",
            "Epoch 100/100\n",
            "176/176 [==============================] - 1s 3ms/step - loss: 0.6327 - accuracy: 0.7792\n",
            "44/44 [==============================] - 0s 2ms/step - loss: 0.4386 - accuracy: 0.8010\n",
            "[0.4386461675167084, 0.8009950518608093]\n",
            "44/44 [==============================] - 0s 2ms/step\n",
            "Classification Report: \n",
            "               precision    recall  f1-score   support\n",
            "\n",
            "         0.0       0.86      0.87      0.87      1033\n",
            "         1.0       0.63      0.61      0.62       374\n",
            "\n",
            "    accuracy                           0.80      1407\n",
            "   macro avg       0.75      0.74      0.74      1407\n",
            "weighted avg       0.80      0.80      0.80      1407\n",
            "\n"
          ]
        }
      ]
    },
    {
      "cell_type": "markdown",
      "source": [
        "As you can see,\n",
        "the f1 scores for unbalanced data set, is for\n",
        "**class 0 is: 87%**,\n",
        "and **class 1 is: 47%**.\n",
        "\n",
        "This is not balanced and in order to balance this we implement further techniques."
      ],
      "metadata": {
        "id": "j2b-ZZ0moX6j"
      }
    },
    {
      "cell_type": "markdown",
      "source": [
        "Implementing various techniques for reducing the skewedness of Data\n",
        "\n",
        "1.  **Undersampling**\n",
        "2.  **Oversampling**\n",
        "3.  **SMOTE**\n",
        "4. **Use of Ensemble with undersampling**\n",
        "\n",
        "\n",
        "\n",
        "\n"
      ],
      "metadata": {
        "id": "8h6DSEYaowF4"
      }
    },
    {
      "cell_type": "markdown",
      "source": [
        "Method 1: **Undersampling**"
      ],
      "metadata": {
        "id": "bUD2Al6mpiwV"
      }
    },
    {
      "cell_type": "code",
      "source": [
        "# Class count\n",
        "count_class_0, count_class_1 = df2.Churn.value_counts()\n",
        "\n",
        "# Divide by class\n",
        "df_class_0 = df2[df2['Churn'] == 0]\n",
        "df_class_1 = df2[df2['Churn'] == 1]"
      ],
      "metadata": {
        "id": "vUIBbif1or3P"
      },
      "execution_count": null,
      "outputs": []
    },
    {
      "cell_type": "code",
      "source": [
        "# Undersample 0-class and concat the DataFrames of both class\n",
        "\n",
        "df_class_0_under = df_class_0.sample(count_class_1)\n",
        "df_test_under = pd.concat([df_class_0_under, df_class_1], axis=0)\n",
        "\n",
        "print('Random under-sampling:')\n",
        "print(df_test_under.Churn.value_counts())"
      ],
      "metadata": {
        "colab": {
          "base_uri": "https://localhost:8080/"
        },
        "id": "9hk_BUB0pvyV",
        "outputId": "b80484a0-2fbf-47f4-e059-9c24c61cbbe9"
      },
      "execution_count": null,
      "outputs": [
        {
          "output_type": "stream",
          "name": "stdout",
          "text": [
            "Random under-sampling:\n",
            "0    1869\n",
            "1    1869\n",
            "Name: Churn, dtype: int64\n"
          ]
        }
      ]
    },
    {
      "cell_type": "code",
      "source": [
        "X = df_test_under.drop('Churn',axis='columns')\n",
        "y = df_test_under['Churn']\n",
        "\n",
        "from sklearn.model_selection import train_test_split\n",
        "X_train, X_test, y_train, y_test = train_test_split(X, y, test_size=0.2, random_state=15, stratify=y)"
      ],
      "metadata": {
        "id": "InU4SQD_p_re"
      },
      "execution_count": null,
      "outputs": []
    },
    {
      "cell_type": "code",
      "source": [
        "# Number of classes in training Data\n",
        "y_train.value_counts()"
      ],
      "metadata": {
        "colab": {
          "base_uri": "https://localhost:8080/"
        },
        "id": "xB6Ae1bjqnXa",
        "outputId": "5d12ecf9-ad52-480f-bae4-7322b0969d87"
      },
      "execution_count": null,
      "outputs": [
        {
          "output_type": "execute_result",
          "data": {
            "text/plain": [
              "0    1495\n",
              "1    1495\n",
              "Name: Churn, dtype: int64"
            ]
          },
          "metadata": {},
          "execution_count": 26
        }
      ]
    },
    {
      "cell_type": "code",
      "source": [
        "y_preds = ANN(X_train, y_train, X_test, y_test, 'binary_crossentropy', -1)"
      ],
      "metadata": {
        "colab": {
          "base_uri": "https://localhost:8080/"
        },
        "id": "pWLl1jcZqpV-",
        "outputId": "121a3bce-d0f7-4507-e15d-3d412010b92d"
      },
      "execution_count": null,
      "outputs": [
        {
          "output_type": "stream",
          "name": "stdout",
          "text": [
            "Epoch 1/100\n",
            "94/94 [==============================] - 1s 3ms/step - loss: 5.9668 - accuracy: 0.5348\n",
            "Epoch 2/100\n",
            "94/94 [==============================] - 0s 3ms/step - loss: 0.8934 - accuracy: 0.6913\n",
            "Epoch 3/100\n",
            "94/94 [==============================] - 0s 3ms/step - loss: 1.1386 - accuracy: 0.6746\n",
            "Epoch 4/100\n",
            "94/94 [==============================] - 0s 3ms/step - loss: 1.5807 - accuracy: 0.6803\n",
            "Epoch 5/100\n",
            "94/94 [==============================] - 0s 3ms/step - loss: 1.3997 - accuracy: 0.6883\n",
            "Epoch 6/100\n",
            "94/94 [==============================] - 0s 3ms/step - loss: 1.1806 - accuracy: 0.6826\n",
            "Epoch 7/100\n",
            "94/94 [==============================] - 0s 3ms/step - loss: 1.1871 - accuracy: 0.6980\n",
            "Epoch 8/100\n",
            "94/94 [==============================] - 0s 3ms/step - loss: 1.0855 - accuracy: 0.7020\n",
            "Epoch 9/100\n",
            "94/94 [==============================] - 0s 3ms/step - loss: 0.8570 - accuracy: 0.7197\n",
            "Epoch 10/100\n",
            "94/94 [==============================] - 0s 3ms/step - loss: 0.9730 - accuracy: 0.7077\n",
            "Epoch 11/100\n",
            "94/94 [==============================] - 0s 3ms/step - loss: 1.3067 - accuracy: 0.7070\n",
            "Epoch 12/100\n",
            "94/94 [==============================] - 0s 3ms/step - loss: 1.0181 - accuracy: 0.6967\n",
            "Epoch 13/100\n",
            "94/94 [==============================] - 0s 3ms/step - loss: 1.0417 - accuracy: 0.7017\n",
            "Epoch 14/100\n",
            "94/94 [==============================] - 0s 3ms/step - loss: 1.6630 - accuracy: 0.6819\n",
            "Epoch 15/100\n",
            "94/94 [==============================] - 0s 3ms/step - loss: 0.9449 - accuracy: 0.7191\n",
            "Epoch 16/100\n",
            "94/94 [==============================] - 0s 3ms/step - loss: 0.9986 - accuracy: 0.7070\n",
            "Epoch 17/100\n",
            "94/94 [==============================] - 0s 3ms/step - loss: 0.7956 - accuracy: 0.7308\n",
            "Epoch 18/100\n",
            "94/94 [==============================] - 0s 3ms/step - loss: 1.0680 - accuracy: 0.7100\n",
            "Epoch 19/100\n",
            "94/94 [==============================] - 0s 3ms/step - loss: 1.2278 - accuracy: 0.6997\n",
            "Epoch 20/100\n",
            "94/94 [==============================] - 0s 3ms/step - loss: 1.5259 - accuracy: 0.6906\n",
            "Epoch 21/100\n",
            "94/94 [==============================] - 0s 3ms/step - loss: 0.8862 - accuracy: 0.7154\n",
            "Epoch 22/100\n",
            "94/94 [==============================] - 0s 3ms/step - loss: 1.0096 - accuracy: 0.7167\n",
            "Epoch 23/100\n",
            "94/94 [==============================] - 0s 3ms/step - loss: 1.0189 - accuracy: 0.7080\n",
            "Epoch 24/100\n",
            "94/94 [==============================] - 0s 3ms/step - loss: 0.9765 - accuracy: 0.7144\n",
            "Epoch 25/100\n",
            "94/94 [==============================] - 0s 3ms/step - loss: 1.2955 - accuracy: 0.6890\n",
            "Epoch 26/100\n",
            "94/94 [==============================] - 0s 3ms/step - loss: 0.8660 - accuracy: 0.7204\n",
            "Epoch 27/100\n",
            "94/94 [==============================] - 0s 3ms/step - loss: 0.7349 - accuracy: 0.7264\n",
            "Epoch 28/100\n",
            "94/94 [==============================] - 0s 3ms/step - loss: 0.9147 - accuracy: 0.7187\n",
            "Epoch 29/100\n",
            "94/94 [==============================] - 0s 3ms/step - loss: 0.8149 - accuracy: 0.7130\n",
            "Epoch 30/100\n",
            "94/94 [==============================] - 0s 3ms/step - loss: 1.4510 - accuracy: 0.7003\n",
            "Epoch 31/100\n",
            "94/94 [==============================] - 0s 3ms/step - loss: 1.1131 - accuracy: 0.7060\n",
            "Epoch 32/100\n",
            "94/94 [==============================] - 0s 3ms/step - loss: 0.9606 - accuracy: 0.7237\n",
            "Epoch 33/100\n",
            "94/94 [==============================] - 0s 3ms/step - loss: 1.0231 - accuracy: 0.7030\n",
            "Epoch 34/100\n",
            "94/94 [==============================] - 0s 2ms/step - loss: 0.7364 - accuracy: 0.7355\n",
            "Epoch 35/100\n",
            "94/94 [==============================] - 0s 3ms/step - loss: 0.8036 - accuracy: 0.7237\n",
            "Epoch 36/100\n",
            "94/94 [==============================] - 0s 3ms/step - loss: 0.7427 - accuracy: 0.7217\n",
            "Epoch 37/100\n",
            "94/94 [==============================] - 0s 3ms/step - loss: 0.9103 - accuracy: 0.7140\n",
            "Epoch 38/100\n",
            "94/94 [==============================] - 0s 3ms/step - loss: 1.0544 - accuracy: 0.7097\n",
            "Epoch 39/100\n",
            "94/94 [==============================] - 0s 3ms/step - loss: 0.7963 - accuracy: 0.7187\n",
            "Epoch 40/100\n",
            "94/94 [==============================] - 0s 3ms/step - loss: 0.7833 - accuracy: 0.7368\n",
            "Epoch 41/100\n",
            "94/94 [==============================] - 0s 2ms/step - loss: 0.7190 - accuracy: 0.7271\n",
            "Epoch 42/100\n",
            "94/94 [==============================] - 0s 3ms/step - loss: 0.8993 - accuracy: 0.7164\n",
            "Epoch 43/100\n",
            "94/94 [==============================] - 0s 3ms/step - loss: 1.1432 - accuracy: 0.7030\n",
            "Epoch 44/100\n",
            "94/94 [==============================] - 0s 3ms/step - loss: 1.9313 - accuracy: 0.6839\n",
            "Epoch 45/100\n",
            "94/94 [==============================] - 0s 2ms/step - loss: 1.1964 - accuracy: 0.6993\n",
            "Epoch 46/100\n",
            "94/94 [==============================] - 0s 3ms/step - loss: 1.1162 - accuracy: 0.7030\n",
            "Epoch 47/100\n",
            "94/94 [==============================] - 0s 3ms/step - loss: 0.8068 - accuracy: 0.7278\n",
            "Epoch 48/100\n",
            "94/94 [==============================] - 0s 3ms/step - loss: 0.9649 - accuracy: 0.7164\n",
            "Epoch 49/100\n",
            "94/94 [==============================] - 0s 3ms/step - loss: 1.0068 - accuracy: 0.7234\n",
            "Epoch 50/100\n",
            "94/94 [==============================] - 0s 3ms/step - loss: 0.6578 - accuracy: 0.7301\n",
            "Epoch 51/100\n",
            "94/94 [==============================] - 0s 3ms/step - loss: 0.8269 - accuracy: 0.7221\n",
            "Epoch 52/100\n",
            "94/94 [==============================] - 0s 3ms/step - loss: 0.9460 - accuracy: 0.7077\n",
            "Epoch 53/100\n",
            "94/94 [==============================] - 0s 3ms/step - loss: 0.7737 - accuracy: 0.7291\n",
            "Epoch 54/100\n",
            "94/94 [==============================] - 0s 3ms/step - loss: 0.9206 - accuracy: 0.7288\n",
            "Epoch 55/100\n",
            "94/94 [==============================] - 0s 3ms/step - loss: 1.1882 - accuracy: 0.7037\n",
            "Epoch 56/100\n",
            "94/94 [==============================] - 0s 4ms/step - loss: 0.8545 - accuracy: 0.7244\n",
            "Epoch 57/100\n",
            "94/94 [==============================] - 0s 5ms/step - loss: 0.9366 - accuracy: 0.7094\n",
            "Epoch 58/100\n",
            "94/94 [==============================] - 0s 4ms/step - loss: 0.8694 - accuracy: 0.7161\n",
            "Epoch 59/100\n",
            "94/94 [==============================] - 0s 4ms/step - loss: 0.9297 - accuracy: 0.7127\n",
            "Epoch 60/100\n",
            "94/94 [==============================] - 0s 4ms/step - loss: 1.1810 - accuracy: 0.7090\n",
            "Epoch 61/100\n",
            "94/94 [==============================] - 0s 4ms/step - loss: 0.6821 - accuracy: 0.7284\n",
            "Epoch 62/100\n",
            "94/94 [==============================] - 0s 4ms/step - loss: 0.9408 - accuracy: 0.7080\n",
            "Epoch 63/100\n",
            "94/94 [==============================] - 0s 4ms/step - loss: 0.7891 - accuracy: 0.7214\n",
            "Epoch 64/100\n",
            "94/94 [==============================] - 0s 5ms/step - loss: 0.9734 - accuracy: 0.7191\n",
            "Epoch 65/100\n",
            "94/94 [==============================] - 0s 4ms/step - loss: 0.8078 - accuracy: 0.7237\n",
            "Epoch 66/100\n",
            "94/94 [==============================] - 0s 4ms/step - loss: 0.8250 - accuracy: 0.7201\n",
            "Epoch 67/100\n",
            "94/94 [==============================] - 0s 3ms/step - loss: 1.4233 - accuracy: 0.6890\n",
            "Epoch 68/100\n",
            "94/94 [==============================] - 0s 2ms/step - loss: 0.8710 - accuracy: 0.7268\n",
            "Epoch 69/100\n",
            "94/94 [==============================] - 0s 3ms/step - loss: 0.7119 - accuracy: 0.7334\n",
            "Epoch 70/100\n",
            "94/94 [==============================] - 0s 3ms/step - loss: 0.8394 - accuracy: 0.7271\n",
            "Epoch 71/100\n",
            "94/94 [==============================] - 0s 3ms/step - loss: 0.8087 - accuracy: 0.7234\n",
            "Epoch 72/100\n",
            "94/94 [==============================] - 0s 3ms/step - loss: 0.7874 - accuracy: 0.7241\n",
            "Epoch 73/100\n",
            "94/94 [==============================] - 0s 3ms/step - loss: 0.6978 - accuracy: 0.7348\n",
            "Epoch 74/100\n",
            "94/94 [==============================] - 0s 3ms/step - loss: 0.7645 - accuracy: 0.7288\n",
            "Epoch 75/100\n",
            "94/94 [==============================] - 0s 3ms/step - loss: 1.0544 - accuracy: 0.7107\n",
            "Epoch 76/100\n",
            "94/94 [==============================] - 0s 3ms/step - loss: 0.8537 - accuracy: 0.7204\n",
            "Epoch 77/100\n",
            "94/94 [==============================] - 0s 3ms/step - loss: 1.1340 - accuracy: 0.6936\n",
            "Epoch 78/100\n",
            "94/94 [==============================] - 0s 3ms/step - loss: 0.7074 - accuracy: 0.7405\n",
            "Epoch 79/100\n",
            "94/94 [==============================] - 0s 3ms/step - loss: 0.7953 - accuracy: 0.7247\n",
            "Epoch 80/100\n",
            "94/94 [==============================] - 0s 3ms/step - loss: 0.7276 - accuracy: 0.7224\n",
            "Epoch 81/100\n",
            "94/94 [==============================] - 0s 3ms/step - loss: 0.7168 - accuracy: 0.7351\n",
            "Epoch 82/100\n",
            "94/94 [==============================] - 0s 2ms/step - loss: 0.6528 - accuracy: 0.7334\n",
            "Epoch 83/100\n",
            "94/94 [==============================] - 0s 3ms/step - loss: 1.0950 - accuracy: 0.7107\n",
            "Epoch 84/100\n",
            "94/94 [==============================] - 0s 3ms/step - loss: 0.8633 - accuracy: 0.7140\n",
            "Epoch 85/100\n",
            "94/94 [==============================] - 0s 3ms/step - loss: 0.7934 - accuracy: 0.7278\n",
            "Epoch 86/100\n",
            "94/94 [==============================] - 0s 3ms/step - loss: 1.1749 - accuracy: 0.6977\n",
            "Epoch 87/100\n",
            "94/94 [==============================] - 0s 3ms/step - loss: 0.6766 - accuracy: 0.7361\n",
            "Epoch 88/100\n",
            "94/94 [==============================] - 0s 3ms/step - loss: 0.6776 - accuracy: 0.7328\n",
            "Epoch 89/100\n",
            "94/94 [==============================] - 0s 3ms/step - loss: 0.8576 - accuracy: 0.7151\n",
            "Epoch 90/100\n",
            "94/94 [==============================] - 0s 3ms/step - loss: 0.5763 - accuracy: 0.7492\n",
            "Epoch 91/100\n",
            "94/94 [==============================] - 0s 3ms/step - loss: 0.8871 - accuracy: 0.7181\n",
            "Epoch 92/100\n",
            "94/94 [==============================] - 0s 3ms/step - loss: 0.8804 - accuracy: 0.7124\n",
            "Epoch 93/100\n",
            "94/94 [==============================] - 0s 3ms/step - loss: 0.7190 - accuracy: 0.7314\n",
            "Epoch 94/100\n",
            "94/94 [==============================] - 0s 3ms/step - loss: 1.0829 - accuracy: 0.7201\n",
            "Epoch 95/100\n",
            "94/94 [==============================] - 0s 3ms/step - loss: 1.0250 - accuracy: 0.7154\n",
            "Epoch 96/100\n",
            "94/94 [==============================] - 0s 3ms/step - loss: 0.9666 - accuracy: 0.7171\n",
            "Epoch 97/100\n",
            "94/94 [==============================] - 0s 3ms/step - loss: 0.8332 - accuracy: 0.7224\n",
            "Epoch 98/100\n",
            "94/94 [==============================] - 0s 3ms/step - loss: 0.8166 - accuracy: 0.7261\n",
            "Epoch 99/100\n",
            "94/94 [==============================] - 0s 3ms/step - loss: 0.5989 - accuracy: 0.7462\n",
            "Epoch 100/100\n",
            "94/94 [==============================] - 0s 3ms/step - loss: 1.0950 - accuracy: 0.6957\n",
            "24/24 [==============================] - 0s 3ms/step - loss: 0.7573 - accuracy: 0.7487\n",
            "[0.7572709918022156, 0.7486631274223328]\n",
            "24/24 [==============================] - 0s 2ms/step\n",
            "Classification Report: \n",
            "               precision    recall  f1-score   support\n",
            "\n",
            "           0       0.71      0.83      0.77       374\n",
            "           1       0.80      0.67      0.73       374\n",
            "\n",
            "    accuracy                           0.75       748\n",
            "   macro avg       0.76      0.75      0.75       748\n",
            "weighted avg       0.76      0.75      0.75       748\n",
            "\n"
          ]
        }
      ]
    },
    {
      "cell_type": "markdown",
      "source": [
        "Check classification report above.\n",
        "The differences in the F1 Scores of minority class 1 and majority class 0  has been reduced .\n",
        "\n",
        "---\n",
        "\n",
        "\n",
        " ***The f1-score for minority class 1 improved*** and  ***f1-score for class 0 reduced***"
      ],
      "metadata": {
        "id": "kQ1aUsLa7UQU"
      }
    },
    {
      "cell_type": "markdown",
      "source": [
        "Method2: **Oversampling**"
      ],
      "metadata": {
        "id": "ZRdjJp_U8JZR"
      }
    },
    {
      "cell_type": "code",
      "source": [
        "# Oversample 1-class and concat the DataFrames of both classes\n",
        "df_class_1_over = df_class_1.sample(count_class_0, replace=True)\n",
        "df_test_over = pd.concat([df_class_0, df_class_1_over], axis=0)\n",
        "\n",
        "print('Random over-sampling:')\n",
        "print(df_test_over.Churn.value_counts())"
      ],
      "metadata": {
        "colab": {
          "base_uri": "https://localhost:8080/"
        },
        "id": "SEwz-2yO8LTj",
        "outputId": "c2ea8752-e24a-40b1-dacf-cc0c34c97046"
      },
      "execution_count": null,
      "outputs": [
        {
          "output_type": "stream",
          "name": "stdout",
          "text": [
            "Random over-sampling:\n",
            "0    5163\n",
            "1    5163\n",
            "Name: Churn, dtype: int64\n"
          ]
        }
      ]
    },
    {
      "cell_type": "code",
      "source": [
        "X = df_test_over.drop('Churn',axis='columns')\n",
        "y = df_test_over['Churn']\n",
        "\n",
        "from sklearn.model_selection import train_test_split\n",
        "X_train, X_test, y_train, y_test = train_test_split(X, y, test_size=0.2, random_state=15, stratify=y)"
      ],
      "metadata": {
        "id": "7FT-AcqT8QrB"
      },
      "execution_count": null,
      "outputs": []
    },
    {
      "cell_type": "code",
      "source": [
        "# Number of classes in training Data\n",
        "y_train.value_counts()"
      ],
      "metadata": {
        "colab": {
          "base_uri": "https://localhost:8080/"
        },
        "id": "hMVkR78B8TuO",
        "outputId": "69253d5d-28ec-475c-9dd6-701b97872cbe"
      },
      "execution_count": null,
      "outputs": [
        {
          "output_type": "execute_result",
          "data": {
            "text/plain": [
              "1    4130\n",
              "0    4130\n",
              "Name: Churn, dtype: int64"
            ]
          },
          "metadata": {},
          "execution_count": 30
        }
      ]
    },
    {
      "cell_type": "code",
      "source": [
        "#Running model after specifying the weights and loss functions.\n",
        "loss = keras.losses.BinaryCrossentropy()\n",
        "weights = -1\n",
        "y_preds = ANN(X_train, y_train, X_test, y_test, 'binary_crossentropy', -1)"
      ],
      "metadata": {
        "colab": {
          "base_uri": "https://localhost:8080/"
        },
        "id": "g4B5OCZP8WWB",
        "outputId": "e4f358ff-16be-4a4d-81c0-8ac6e3408e3b"
      },
      "execution_count": null,
      "outputs": [
        {
          "output_type": "stream",
          "name": "stdout",
          "text": [
            "Epoch 1/100\n",
            "259/259 [==============================] - 1s 3ms/step - loss: 1.9494 - accuracy: 0.6580\n",
            "Epoch 2/100\n",
            "259/259 [==============================] - 1s 3ms/step - loss: 0.8018 - accuracy: 0.7061\n",
            "Epoch 3/100\n",
            "259/259 [==============================] - 1s 3ms/step - loss: 0.8021 - accuracy: 0.7179\n",
            "Epoch 4/100\n",
            "259/259 [==============================] - 1s 3ms/step - loss: 0.8414 - accuracy: 0.7111\n",
            "Epoch 5/100\n",
            "259/259 [==============================] - 1s 3ms/step - loss: 1.1754 - accuracy: 0.7013\n",
            "Epoch 6/100\n",
            "259/259 [==============================] - 1s 3ms/step - loss: 1.1205 - accuracy: 0.7117\n",
            "Epoch 7/100\n",
            "259/259 [==============================] - 1s 2ms/step - loss: 0.7005 - accuracy: 0.7223\n",
            "Epoch 8/100\n",
            "259/259 [==============================] - 1s 3ms/step - loss: 0.8347 - accuracy: 0.7202\n",
            "Epoch 9/100\n",
            "259/259 [==============================] - 1s 3ms/step - loss: 0.7187 - accuracy: 0.7329\n",
            "Epoch 10/100\n",
            "259/259 [==============================] - 1s 3ms/step - loss: 0.7650 - accuracy: 0.7238\n",
            "Epoch 11/100\n",
            "259/259 [==============================] - 1s 3ms/step - loss: 0.7836 - accuracy: 0.7207\n",
            "Epoch 12/100\n",
            "259/259 [==============================] - 1s 3ms/step - loss: 0.9907 - accuracy: 0.7172\n",
            "Epoch 13/100\n",
            "259/259 [==============================] - 1s 3ms/step - loss: 0.6312 - accuracy: 0.7476\n",
            "Epoch 14/100\n",
            "259/259 [==============================] - 1s 4ms/step - loss: 0.8038 - accuracy: 0.7268\n",
            "Epoch 15/100\n",
            "259/259 [==============================] - 1s 4ms/step - loss: 0.7134 - accuracy: 0.7333\n",
            "Epoch 16/100\n",
            "259/259 [==============================] - 1s 3ms/step - loss: 0.8055 - accuracy: 0.7258\n",
            "Epoch 17/100\n",
            "259/259 [==============================] - 1s 3ms/step - loss: 0.8414 - accuracy: 0.7246\n",
            "Epoch 18/100\n",
            "259/259 [==============================] - 1s 3ms/step - loss: 0.6657 - accuracy: 0.7416\n",
            "Epoch 19/100\n",
            "259/259 [==============================] - 1s 3ms/step - loss: 0.8999 - accuracy: 0.7266\n",
            "Epoch 20/100\n",
            "259/259 [==============================] - 1s 2ms/step - loss: 0.8283 - accuracy: 0.7213\n",
            "Epoch 21/100\n",
            "259/259 [==============================] - 1s 3ms/step - loss: 0.9207 - accuracy: 0.7265\n",
            "Epoch 22/100\n",
            "259/259 [==============================] - 1s 3ms/step - loss: 0.7833 - accuracy: 0.7310\n",
            "Epoch 23/100\n",
            "259/259 [==============================] - 1s 3ms/step - loss: 0.6835 - accuracy: 0.7360\n",
            "Epoch 24/100\n",
            "259/259 [==============================] - 1s 3ms/step - loss: 0.6841 - accuracy: 0.7356\n",
            "Epoch 25/100\n",
            "259/259 [==============================] - 1s 2ms/step - loss: 0.6849 - accuracy: 0.7389\n",
            "Epoch 26/100\n",
            "259/259 [==============================] - 1s 3ms/step - loss: 0.6730 - accuracy: 0.7413\n",
            "Epoch 27/100\n",
            "259/259 [==============================] - 1s 3ms/step - loss: 0.7301 - accuracy: 0.7349\n",
            "Epoch 28/100\n",
            "259/259 [==============================] - 1s 3ms/step - loss: 0.8518 - accuracy: 0.7245\n",
            "Epoch 29/100\n",
            "259/259 [==============================] - 1s 3ms/step - loss: 0.6569 - accuracy: 0.7390\n",
            "Epoch 30/100\n",
            "259/259 [==============================] - 1s 3ms/step - loss: 0.6949 - accuracy: 0.7335\n",
            "Epoch 31/100\n",
            "259/259 [==============================] - 1s 3ms/step - loss: 0.7046 - accuracy: 0.7331\n",
            "Epoch 32/100\n",
            "259/259 [==============================] - 1s 3ms/step - loss: 0.9702 - accuracy: 0.7215\n",
            "Epoch 33/100\n",
            "259/259 [==============================] - 1s 3ms/step - loss: 0.6687 - accuracy: 0.7467\n",
            "Epoch 34/100\n",
            "259/259 [==============================] - 1s 3ms/step - loss: 0.9282 - accuracy: 0.7196\n",
            "Epoch 35/100\n",
            "259/259 [==============================] - 1s 2ms/step - loss: 0.7244 - accuracy: 0.7331\n",
            "Epoch 36/100\n",
            "259/259 [==============================] - 1s 3ms/step - loss: 0.6625 - accuracy: 0.7352\n",
            "Epoch 37/100\n",
            "259/259 [==============================] - 1s 3ms/step - loss: 0.6477 - accuracy: 0.7404\n",
            "Epoch 38/100\n",
            "259/259 [==============================] - 1s 3ms/step - loss: 0.6756 - accuracy: 0.7383\n",
            "Epoch 39/100\n",
            "259/259 [==============================] - 1s 3ms/step - loss: 0.6450 - accuracy: 0.7433\n",
            "Epoch 40/100\n",
            "259/259 [==============================] - 1s 2ms/step - loss: 0.5932 - accuracy: 0.7472\n",
            "Epoch 41/100\n",
            "259/259 [==============================] - 1s 3ms/step - loss: 0.8129 - accuracy: 0.7242\n",
            "Epoch 42/100\n",
            "259/259 [==============================] - 1s 3ms/step - loss: 0.6829 - accuracy: 0.7380\n",
            "Epoch 43/100\n",
            "259/259 [==============================] - 1s 3ms/step - loss: 0.5987 - accuracy: 0.7438\n",
            "Epoch 44/100\n",
            "259/259 [==============================] - 1s 4ms/step - loss: 0.6062 - accuracy: 0.7437\n",
            "Epoch 45/100\n",
            "259/259 [==============================] - 1s 4ms/step - loss: 0.6134 - accuracy: 0.7449\n",
            "Epoch 46/100\n",
            "259/259 [==============================] - 1s 4ms/step - loss: 0.7276 - accuracy: 0.7347\n",
            "Epoch 47/100\n",
            "259/259 [==============================] - 1s 4ms/step - loss: 0.6501 - accuracy: 0.7390\n",
            "Epoch 48/100\n",
            "259/259 [==============================] - 1s 3ms/step - loss: 0.7567 - accuracy: 0.7308\n",
            "Epoch 49/100\n",
            "259/259 [==============================] - 1s 3ms/step - loss: 0.6882 - accuracy: 0.7350\n",
            "Epoch 50/100\n",
            "259/259 [==============================] - 1s 3ms/step - loss: 0.6514 - accuracy: 0.7402\n",
            "Epoch 51/100\n",
            "259/259 [==============================] - 1s 3ms/step - loss: 0.6632 - accuracy: 0.7425\n",
            "Epoch 52/100\n",
            "259/259 [==============================] - 1s 3ms/step - loss: 0.7431 - accuracy: 0.7324\n",
            "Epoch 53/100\n",
            "259/259 [==============================] - 1s 3ms/step - loss: 0.6844 - accuracy: 0.7380\n",
            "Epoch 54/100\n",
            "259/259 [==============================] - 1s 2ms/step - loss: 0.6536 - accuracy: 0.7461\n",
            "Epoch 55/100\n",
            "259/259 [==============================] - 1s 3ms/step - loss: 0.6252 - accuracy: 0.7450\n",
            "Epoch 56/100\n",
            "259/259 [==============================] - 1s 3ms/step - loss: 0.5781 - accuracy: 0.7547\n",
            "Epoch 57/100\n",
            "259/259 [==============================] - 1s 3ms/step - loss: 0.7079 - accuracy: 0.7295\n",
            "Epoch 58/100\n",
            "259/259 [==============================] - 1s 3ms/step - loss: 0.6095 - accuracy: 0.7459\n",
            "Epoch 59/100\n",
            "259/259 [==============================] - 1s 3ms/step - loss: 0.7225 - accuracy: 0.7343\n",
            "Epoch 60/100\n",
            "259/259 [==============================] - 1s 3ms/step - loss: 0.6640 - accuracy: 0.7420\n",
            "Epoch 61/100\n",
            "259/259 [==============================] - 1s 3ms/step - loss: 0.6271 - accuracy: 0.7467\n",
            "Epoch 62/100\n",
            "259/259 [==============================] - 1s 3ms/step - loss: 0.6835 - accuracy: 0.7360\n",
            "Epoch 63/100\n",
            "259/259 [==============================] - 1s 4ms/step - loss: 0.8526 - accuracy: 0.7196\n",
            "Epoch 64/100\n",
            "259/259 [==============================] - 1s 4ms/step - loss: 0.7715 - accuracy: 0.7271\n",
            "Epoch 65/100\n",
            "259/259 [==============================] - 1s 4ms/step - loss: 0.6588 - accuracy: 0.7392\n",
            "Epoch 66/100\n",
            "259/259 [==============================] - 1s 4ms/step - loss: 0.5823 - accuracy: 0.7517\n",
            "Epoch 67/100\n",
            "259/259 [==============================] - 1s 3ms/step - loss: 0.6869 - accuracy: 0.7349\n",
            "Epoch 68/100\n",
            "259/259 [==============================] - 1s 2ms/step - loss: 0.6492 - accuracy: 0.7442\n",
            "Epoch 69/100\n",
            "259/259 [==============================] - 1s 3ms/step - loss: 0.6060 - accuracy: 0.7513\n",
            "Epoch 70/100\n",
            "259/259 [==============================] - 1s 3ms/step - loss: 0.6489 - accuracy: 0.7408\n",
            "Epoch 71/100\n",
            "259/259 [==============================] - 1s 3ms/step - loss: 0.6238 - accuracy: 0.7477\n",
            "Epoch 72/100\n",
            "259/259 [==============================] - 1s 3ms/step - loss: 0.6765 - accuracy: 0.7351\n",
            "Epoch 73/100\n",
            "259/259 [==============================] - 1s 3ms/step - loss: 0.6377 - accuracy: 0.7469\n",
            "Epoch 74/100\n",
            "259/259 [==============================] - 1s 3ms/step - loss: 0.5530 - accuracy: 0.7563\n",
            "Epoch 75/100\n",
            "259/259 [==============================] - 1s 3ms/step - loss: 0.5598 - accuracy: 0.7552\n",
            "Epoch 76/100\n",
            "259/259 [==============================] - 1s 2ms/step - loss: 0.6295 - accuracy: 0.7384\n",
            "Epoch 77/100\n",
            "259/259 [==============================] - 1s 3ms/step - loss: 0.6367 - accuracy: 0.7420\n",
            "Epoch 78/100\n",
            "259/259 [==============================] - 1s 3ms/step - loss: 0.5582 - accuracy: 0.7529\n",
            "Epoch 79/100\n",
            "259/259 [==============================] - 1s 3ms/step - loss: 0.5615 - accuracy: 0.7518\n",
            "Epoch 80/100\n",
            "259/259 [==============================] - 1s 2ms/step - loss: 0.5377 - accuracy: 0.7557\n",
            "Epoch 81/100\n",
            "259/259 [==============================] - 1s 2ms/step - loss: 0.5849 - accuracy: 0.7435\n",
            "Epoch 82/100\n",
            "259/259 [==============================] - 1s 3ms/step - loss: 0.5925 - accuracy: 0.7483\n",
            "Epoch 83/100\n",
            "259/259 [==============================] - 1s 3ms/step - loss: 0.6009 - accuracy: 0.7487\n",
            "Epoch 84/100\n",
            "259/259 [==============================] - 1s 2ms/step - loss: 0.6277 - accuracy: 0.7423\n",
            "Epoch 85/100\n",
            "259/259 [==============================] - 1s 3ms/step - loss: 0.6055 - accuracy: 0.7495\n",
            "Epoch 86/100\n",
            "259/259 [==============================] - 1s 2ms/step - loss: 0.5502 - accuracy: 0.7558\n",
            "Epoch 87/100\n",
            "259/259 [==============================] - 1s 3ms/step - loss: 0.5613 - accuracy: 0.7527\n",
            "Epoch 88/100\n",
            "259/259 [==============================] - 1s 3ms/step - loss: 0.6837 - accuracy: 0.7370\n",
            "Epoch 89/100\n",
            "259/259 [==============================] - 1s 3ms/step - loss: 0.5904 - accuracy: 0.7453\n",
            "Epoch 90/100\n",
            "259/259 [==============================] - 1s 3ms/step - loss: 0.5425 - accuracy: 0.7508\n",
            "Epoch 91/100\n",
            "259/259 [==============================] - 1s 3ms/step - loss: 0.5403 - accuracy: 0.7564\n",
            "Epoch 92/100\n",
            "259/259 [==============================] - 1s 3ms/step - loss: 0.5984 - accuracy: 0.7469\n",
            "Epoch 93/100\n",
            "259/259 [==============================] - 1s 3ms/step - loss: 0.6153 - accuracy: 0.7396\n",
            "Epoch 94/100\n",
            "259/259 [==============================] - 1s 2ms/step - loss: 0.5256 - accuracy: 0.7575\n",
            "Epoch 95/100\n",
            "259/259 [==============================] - 1s 2ms/step - loss: 0.5524 - accuracy: 0.7534\n",
            "Epoch 96/100\n",
            "259/259 [==============================] - 1s 2ms/step - loss: 0.5550 - accuracy: 0.7527\n",
            "Epoch 97/100\n",
            "259/259 [==============================] - 1s 3ms/step - loss: 0.5080 - accuracy: 0.7644\n",
            "Epoch 98/100\n",
            "259/259 [==============================] - 1s 3ms/step - loss: 0.5585 - accuracy: 0.7528\n",
            "Epoch 99/100\n",
            "259/259 [==============================] - 1s 3ms/step - loss: 0.5414 - accuracy: 0.7540\n",
            "Epoch 100/100\n",
            "259/259 [==============================] - 1s 3ms/step - loss: 0.5324 - accuracy: 0.7611\n",
            "65/65 [==============================] - 0s 2ms/step - loss: 0.6953 - accuracy: 0.7280\n",
            "[0.6953048706054688, 0.7279767394065857]\n",
            "65/65 [==============================] - 0s 2ms/step\n",
            "Classification Report: \n",
            "               precision    recall  f1-score   support\n",
            "\n",
            "           0       0.68      0.88      0.76      1033\n",
            "           1       0.82      0.58      0.68      1033\n",
            "\n",
            "    accuracy                           0.73      2066\n",
            "   macro avg       0.75      0.73      0.72      2066\n",
            "weighted avg       0.75      0.73      0.72      2066\n",
            "\n"
          ]
        }
      ]
    },
    {
      "cell_type": "markdown",
      "source": [
        "Check classification report above. The differences in the F1 Scores of minority class 1 and majority class 0 has been reduced . **The f1-score for minority class 1 improved and f1-score for class 0 reduced.**"
      ],
      "metadata": {
        "id": "dnvGIfML88-E"
      }
    },
    {
      "cell_type": "markdown",
      "source": [
        " Method3: **SMOTE**  (Synthetic Minority Oversampling Technique)"
      ],
      "metadata": {
        "id": "QZK2y2Fg9g5B"
      }
    },
    {
      "cell_type": "code",
      "source": [
        "! pip install imbalanced-learn"
      ],
      "metadata": {
        "colab": {
          "base_uri": "https://localhost:8080/"
        },
        "id": "lI3jAwUj9V1K",
        "outputId": "793b577a-f04c-4cf4-dbba-487e4ab403b7"
      },
      "execution_count": null,
      "outputs": [
        {
          "output_type": "stream",
          "name": "stdout",
          "text": [
            "Looking in indexes: https://pypi.org/simple, https://us-python.pkg.dev/colab-wheels/public/simple/\n",
            "Requirement already satisfied: imbalanced-learn in /usr/local/lib/python3.7/dist-packages (0.8.1)\n",
            "Requirement already satisfied: scipy>=0.19.1 in /usr/local/lib/python3.7/dist-packages (from imbalanced-learn) (1.7.3)\n",
            "Requirement already satisfied: numpy>=1.13.3 in /usr/local/lib/python3.7/dist-packages (from imbalanced-learn) (1.21.6)\n",
            "Requirement already satisfied: scikit-learn>=0.24 in /usr/local/lib/python3.7/dist-packages (from imbalanced-learn) (1.0.2)\n",
            "Requirement already satisfied: joblib>=0.11 in /usr/local/lib/python3.7/dist-packages (from imbalanced-learn) (1.2.0)\n",
            "Requirement already satisfied: threadpoolctl>=2.0.0 in /usr/local/lib/python3.7/dist-packages (from scikit-learn>=0.24->imbalanced-learn) (3.1.0)\n"
          ]
        }
      ]
    },
    {
      "cell_type": "code",
      "source": [
        "X = df2.drop('Churn',axis='columns')\n",
        "y = df2['Churn']"
      ],
      "metadata": {
        "id": "T7bI10ap93os"
      },
      "execution_count": null,
      "outputs": []
    },
    {
      "cell_type": "code",
      "source": [
        "y.value_counts()"
      ],
      "metadata": {
        "colab": {
          "base_uri": "https://localhost:8080/"
        },
        "id": "eEWlvH2cgKOS",
        "outputId": "a26c4571-212e-4866-c962-c1f6b9e1ed06"
      },
      "execution_count": null,
      "outputs": [
        {
          "output_type": "execute_result",
          "data": {
            "text/plain": [
              "0    5163\n",
              "1    1869\n",
              "Name: Churn, dtype: int64"
            ]
          },
          "metadata": {},
          "execution_count": 34
        }
      ]
    },
    {
      "cell_type": "code",
      "source": [
        "from imblearn.over_sampling import SMOTE\n",
        "\n",
        "smote = SMOTE(sampling_strategy='minority')\n",
        "X_sm, y_sm = smote.fit_resample(X, y)\n",
        "\n",
        "y_sm.value_counts()"
      ],
      "metadata": {
        "colab": {
          "base_uri": "https://localhost:8080/"
        },
        "id": "iwfwyHh4-Ack",
        "outputId": "d1021828-6569-42aa-e53a-2e5123271ea9"
      },
      "execution_count": null,
      "outputs": [
        {
          "output_type": "execute_result",
          "data": {
            "text/plain": [
              "0    5163\n",
              "1    5163\n",
              "Name: Churn, dtype: int64"
            ]
          },
          "metadata": {},
          "execution_count": 35
        }
      ]
    },
    {
      "cell_type": "code",
      "source": [
        "from sklearn.model_selection import train_test_split\n",
        "X_train, X_test, y_train, y_test = train_test_split(X_sm, y_sm, test_size=0.2, random_state=15, stratify=y_sm)\n",
        "# Number of classes in training Data\n",
        "y_train.value_counts()"
      ],
      "metadata": {
        "colab": {
          "base_uri": "https://localhost:8080/"
        },
        "id": "k9tlxaK7_G-w",
        "outputId": "f7ca2b87-94ee-41e7-aea1-0c348918de06"
      },
      "execution_count": null,
      "outputs": [
        {
          "output_type": "execute_result",
          "data": {
            "text/plain": [
              "1    4130\n",
              "0    4130\n",
              "Name: Churn, dtype: int64"
            ]
          },
          "metadata": {},
          "execution_count": 36
        }
      ]
    },
    {
      "cell_type": "code",
      "source": [
        "y_preds = ANN(X_train, y_train, X_test, y_test, 'binary_crossentropy', -1)"
      ],
      "metadata": {
        "colab": {
          "base_uri": "https://localhost:8080/"
        },
        "id": "L8m-Qf_C_P3a",
        "outputId": "b840add4-60ca-4b3a-f183-2a4334bc3bda"
      },
      "execution_count": null,
      "outputs": [
        {
          "output_type": "stream",
          "name": "stdout",
          "text": [
            "Epoch 1/100\n",
            "259/259 [==============================] - 2s 5ms/step - loss: 3.0832 - accuracy: 0.6381\n",
            "Epoch 2/100\n",
            "259/259 [==============================] - 1s 5ms/step - loss: 0.8263 - accuracy: 0.7194\n",
            "Epoch 3/100\n",
            "259/259 [==============================] - 1s 6ms/step - loss: 0.6578 - accuracy: 0.7441\n",
            "Epoch 4/100\n",
            "259/259 [==============================] - 1s 4ms/step - loss: 0.6825 - accuracy: 0.7527\n",
            "Epoch 5/100\n",
            "259/259 [==============================] - 1s 3ms/step - loss: 0.5951 - accuracy: 0.7691\n",
            "Epoch 6/100\n",
            "259/259 [==============================] - 2s 6ms/step - loss: 0.8307 - accuracy: 0.7409\n",
            "Epoch 7/100\n",
            "259/259 [==============================] - 2s 7ms/step - loss: 0.8656 - accuracy: 0.7495\n",
            "Epoch 8/100\n",
            "259/259 [==============================] - 2s 7ms/step - loss: 0.6238 - accuracy: 0.7791\n",
            "Epoch 9/100\n",
            "259/259 [==============================] - 2s 7ms/step - loss: 0.5719 - accuracy: 0.7812\n",
            "Epoch 10/100\n",
            "259/259 [==============================] - 2s 6ms/step - loss: 0.5546 - accuracy: 0.7806\n",
            "Epoch 11/100\n",
            "259/259 [==============================] - 2s 7ms/step - loss: 0.5532 - accuracy: 0.7846\n",
            "Epoch 12/100\n",
            "259/259 [==============================] - 2s 6ms/step - loss: 0.6212 - accuracy: 0.7782\n",
            "Epoch 13/100\n",
            "259/259 [==============================] - 2s 7ms/step - loss: 0.8840 - accuracy: 0.7516\n",
            "Epoch 14/100\n",
            "259/259 [==============================] - 2s 7ms/step - loss: 0.5618 - accuracy: 0.7831\n",
            "Epoch 15/100\n",
            "259/259 [==============================] - 2s 6ms/step - loss: 0.5390 - accuracy: 0.7895\n",
            "Epoch 16/100\n",
            "259/259 [==============================] - 1s 6ms/step - loss: 0.6755 - accuracy: 0.7769\n",
            "Epoch 17/100\n",
            "259/259 [==============================] - 2s 8ms/step - loss: 0.5572 - accuracy: 0.7924\n",
            "Epoch 18/100\n",
            "259/259 [==============================] - 2s 7ms/step - loss: 0.5493 - accuracy: 0.7941\n",
            "Epoch 19/100\n",
            "259/259 [==============================] - 2s 6ms/step - loss: 0.5580 - accuracy: 0.7923\n",
            "Epoch 20/100\n",
            "259/259 [==============================] - 1s 3ms/step - loss: 0.5339 - accuracy: 0.8018\n",
            "Epoch 21/100\n",
            "259/259 [==============================] - 1s 3ms/step - loss: 0.5748 - accuracy: 0.7966\n",
            "Epoch 22/100\n",
            "259/259 [==============================] - 1s 3ms/step - loss: 0.5815 - accuracy: 0.7898\n",
            "Epoch 23/100\n",
            "259/259 [==============================] - 1s 3ms/step - loss: 0.5631 - accuracy: 0.7949\n",
            "Epoch 24/100\n",
            "259/259 [==============================] - 1s 3ms/step - loss: 0.7496 - accuracy: 0.7762\n",
            "Epoch 25/100\n",
            "259/259 [==============================] - 1s 3ms/step - loss: 0.5640 - accuracy: 0.7954\n",
            "Epoch 26/100\n",
            "259/259 [==============================] - 1s 3ms/step - loss: 0.5051 - accuracy: 0.8061\n",
            "Epoch 27/100\n",
            "259/259 [==============================] - 1s 3ms/step - loss: 0.5958 - accuracy: 0.7944\n",
            "Epoch 28/100\n",
            "259/259 [==============================] - 1s 3ms/step - loss: 0.5208 - accuracy: 0.8041\n",
            "Epoch 29/100\n",
            "259/259 [==============================] - 1s 2ms/step - loss: 0.5209 - accuracy: 0.8022\n",
            "Epoch 30/100\n",
            "259/259 [==============================] - 1s 3ms/step - loss: 0.6614 - accuracy: 0.7834\n",
            "Epoch 31/100\n",
            "259/259 [==============================] - 1s 3ms/step - loss: 0.5642 - accuracy: 0.8030\n",
            "Epoch 32/100\n",
            "259/259 [==============================] - 1s 3ms/step - loss: 0.5222 - accuracy: 0.8071\n",
            "Epoch 33/100\n",
            "259/259 [==============================] - 1s 3ms/step - loss: 0.4631 - accuracy: 0.8114\n",
            "Epoch 34/100\n",
            "259/259 [==============================] - 1s 3ms/step - loss: 0.4287 - accuracy: 0.8177\n",
            "Epoch 35/100\n",
            "259/259 [==============================] - 1s 3ms/step - loss: 0.4394 - accuracy: 0.8156\n",
            "Epoch 36/100\n",
            "259/259 [==============================] - 1s 3ms/step - loss: 0.4753 - accuracy: 0.8099\n",
            "Epoch 37/100\n",
            "259/259 [==============================] - 1s 3ms/step - loss: 0.5477 - accuracy: 0.7999\n",
            "Epoch 38/100\n",
            "259/259 [==============================] - 1s 3ms/step - loss: 0.5082 - accuracy: 0.7988\n",
            "Epoch 39/100\n",
            "259/259 [==============================] - 1s 3ms/step - loss: 0.5065 - accuracy: 0.8057\n",
            "Epoch 40/100\n",
            "259/259 [==============================] - 1s 3ms/step - loss: 0.4859 - accuracy: 0.8059\n",
            "Epoch 41/100\n",
            "259/259 [==============================] - 1s 3ms/step - loss: 0.6012 - accuracy: 0.7960\n",
            "Epoch 42/100\n",
            "259/259 [==============================] - 1s 3ms/step - loss: 0.4799 - accuracy: 0.8096\n",
            "Epoch 43/100\n",
            "259/259 [==============================] - 1s 3ms/step - loss: 0.4842 - accuracy: 0.8116\n",
            "Epoch 44/100\n",
            "259/259 [==============================] - 1s 3ms/step - loss: 0.4336 - accuracy: 0.8226\n",
            "Epoch 45/100\n",
            "259/259 [==============================] - 1s 3ms/step - loss: 0.5342 - accuracy: 0.8048\n",
            "Epoch 46/100\n",
            "259/259 [==============================] - 1s 3ms/step - loss: 0.4355 - accuracy: 0.8208\n",
            "Epoch 47/100\n",
            "259/259 [==============================] - 1s 3ms/step - loss: 0.4645 - accuracy: 0.8151\n",
            "Epoch 48/100\n",
            "259/259 [==============================] - 1s 3ms/step - loss: 0.4963 - accuracy: 0.8127\n",
            "Epoch 49/100\n",
            "259/259 [==============================] - 1s 3ms/step - loss: 0.4681 - accuracy: 0.8111\n",
            "Epoch 50/100\n",
            "259/259 [==============================] - 1s 3ms/step - loss: 0.5032 - accuracy: 0.8024\n",
            "Epoch 51/100\n",
            "259/259 [==============================] - 1s 3ms/step - loss: 0.5044 - accuracy: 0.8090\n",
            "Epoch 52/100\n",
            "259/259 [==============================] - 1s 3ms/step - loss: 0.4267 - accuracy: 0.8232\n",
            "Epoch 53/100\n",
            "259/259 [==============================] - 1s 2ms/step - loss: 0.4250 - accuracy: 0.8182\n",
            "Epoch 54/100\n",
            "259/259 [==============================] - 1s 2ms/step - loss: 0.4639 - accuracy: 0.8169\n",
            "Epoch 55/100\n",
            "259/259 [==============================] - 1s 2ms/step - loss: 0.4594 - accuracy: 0.8196\n",
            "Epoch 56/100\n",
            "259/259 [==============================] - 1s 3ms/step - loss: 0.5219 - accuracy: 0.8005\n",
            "Epoch 57/100\n",
            "259/259 [==============================] - 1s 3ms/step - loss: 0.5089 - accuracy: 0.8107\n",
            "Epoch 58/100\n",
            "259/259 [==============================] - 1s 3ms/step - loss: 0.4920 - accuracy: 0.8053\n",
            "Epoch 59/100\n",
            "259/259 [==============================] - 1s 4ms/step - loss: 0.4131 - accuracy: 0.8243\n",
            "Epoch 60/100\n",
            "259/259 [==============================] - 1s 4ms/step - loss: 0.5212 - accuracy: 0.8019\n",
            "Epoch 61/100\n",
            "259/259 [==============================] - 1s 4ms/step - loss: 0.4632 - accuracy: 0.8172\n",
            "Epoch 62/100\n",
            "259/259 [==============================] - 1s 5ms/step - loss: 0.4009 - accuracy: 0.8280\n",
            "Epoch 63/100\n",
            "259/259 [==============================] - 1s 3ms/step - loss: 0.4351 - accuracy: 0.8190\n",
            "Epoch 64/100\n",
            "259/259 [==============================] - 1s 3ms/step - loss: 0.4710 - accuracy: 0.8190\n",
            "Epoch 65/100\n",
            "259/259 [==============================] - 1s 3ms/step - loss: 0.4614 - accuracy: 0.8100\n",
            "Epoch 66/100\n",
            "259/259 [==============================] - 1s 3ms/step - loss: 0.4436 - accuracy: 0.8176\n",
            "Epoch 67/100\n",
            "259/259 [==============================] - 1s 3ms/step - loss: 0.4289 - accuracy: 0.8218\n",
            "Epoch 68/100\n",
            "259/259 [==============================] - 1s 3ms/step - loss: 0.4052 - accuracy: 0.8286\n",
            "Epoch 69/100\n",
            "259/259 [==============================] - 1s 3ms/step - loss: 0.4453 - accuracy: 0.8169\n",
            "Epoch 70/100\n",
            "259/259 [==============================] - 1s 3ms/step - loss: 0.4108 - accuracy: 0.8275\n",
            "Epoch 71/100\n",
            "259/259 [==============================] - 1s 3ms/step - loss: 0.4755 - accuracy: 0.8117\n",
            "Epoch 72/100\n",
            "259/259 [==============================] - 1s 3ms/step - loss: 0.4156 - accuracy: 0.8252\n",
            "Epoch 73/100\n",
            "259/259 [==============================] - 1s 3ms/step - loss: 0.4344 - accuracy: 0.8209\n",
            "Epoch 74/100\n",
            "259/259 [==============================] - 1s 3ms/step - loss: 0.4357 - accuracy: 0.8207\n",
            "Epoch 75/100\n",
            "259/259 [==============================] - 1s 3ms/step - loss: 0.4729 - accuracy: 0.8139\n",
            "Epoch 76/100\n",
            "259/259 [==============================] - 1s 3ms/step - loss: 0.4465 - accuracy: 0.8197\n",
            "Epoch 77/100\n",
            "259/259 [==============================] - 1s 3ms/step - loss: 0.4887 - accuracy: 0.8073\n",
            "Epoch 78/100\n",
            "259/259 [==============================] - 1s 3ms/step - loss: 0.3896 - accuracy: 0.8298\n",
            "Epoch 79/100\n",
            "259/259 [==============================] - 1s 3ms/step - loss: 0.4244 - accuracy: 0.8260\n",
            "Epoch 80/100\n",
            "259/259 [==============================] - 1s 3ms/step - loss: 0.4050 - accuracy: 0.8276\n",
            "Epoch 81/100\n",
            "259/259 [==============================] - 1s 2ms/step - loss: 0.4032 - accuracy: 0.8243\n",
            "Epoch 82/100\n",
            "259/259 [==============================] - 1s 3ms/step - loss: 0.4157 - accuracy: 0.8247\n",
            "Epoch 83/100\n",
            "259/259 [==============================] - 1s 3ms/step - loss: 0.4261 - accuracy: 0.8208\n",
            "Epoch 84/100\n",
            "259/259 [==============================] - 1s 3ms/step - loss: 0.4128 - accuracy: 0.8237\n",
            "Epoch 85/100\n",
            "259/259 [==============================] - 1s 3ms/step - loss: 0.3885 - accuracy: 0.8318\n",
            "Epoch 86/100\n",
            "259/259 [==============================] - 1s 3ms/step - loss: 0.4212 - accuracy: 0.8243\n",
            "Epoch 87/100\n",
            "259/259 [==============================] - 1s 3ms/step - loss: 0.4464 - accuracy: 0.8188\n",
            "Epoch 88/100\n",
            "259/259 [==============================] - 1s 3ms/step - loss: 0.4006 - accuracy: 0.8277\n",
            "Epoch 89/100\n",
            "259/259 [==============================] - 1s 3ms/step - loss: 0.3846 - accuracy: 0.8349\n",
            "Epoch 90/100\n",
            "259/259 [==============================] - 1s 3ms/step - loss: 0.4524 - accuracy: 0.8182\n",
            "Epoch 91/100\n",
            "259/259 [==============================] - 1s 3ms/step - loss: 0.4589 - accuracy: 0.8192\n",
            "Epoch 92/100\n",
            "259/259 [==============================] - 1s 3ms/step - loss: 0.3703 - accuracy: 0.8368\n",
            "Epoch 93/100\n",
            "259/259 [==============================] - 1s 3ms/step - loss: 0.3830 - accuracy: 0.8314\n",
            "Epoch 94/100\n",
            "259/259 [==============================] - 1s 3ms/step - loss: 0.3828 - accuracy: 0.8326\n",
            "Epoch 95/100\n",
            "259/259 [==============================] - 1s 3ms/step - loss: 0.4037 - accuracy: 0.8295\n",
            "Epoch 96/100\n",
            "259/259 [==============================] - 1s 3ms/step - loss: 0.3925 - accuracy: 0.8311\n",
            "Epoch 97/100\n",
            "259/259 [==============================] - 1s 3ms/step - loss: 0.3929 - accuracy: 0.8299\n",
            "Epoch 98/100\n",
            "259/259 [==============================] - 1s 3ms/step - loss: 0.3655 - accuracy: 0.8358\n",
            "Epoch 99/100\n",
            "259/259 [==============================] - 1s 3ms/step - loss: 0.4009 - accuracy: 0.8294\n",
            "Epoch 100/100\n",
            "259/259 [==============================] - 1s 3ms/step - loss: 0.4133 - accuracy: 0.8236\n",
            "65/65 [==============================] - 0s 2ms/step - loss: 0.4010 - accuracy: 0.8040\n",
            "[0.40095055103302, 0.8039690256118774]\n",
            "65/65 [==============================] - 0s 2ms/step\n",
            "Classification Report: \n",
            "               precision    recall  f1-score   support\n",
            "\n",
            "           0       0.88      0.71      0.78      1033\n",
            "           1       0.75      0.90      0.82      1033\n",
            "\n",
            "    accuracy                           0.80      2066\n",
            "   macro avg       0.82      0.80      0.80      2066\n",
            "weighted avg       0.82      0.80      0.80      2066\n",
            "\n"
          ]
        }
      ]
    },
    {
      "cell_type": "markdown",
      "source": [
        "Thus,the ***SMOTE*** Oversampling considerably increases the f1 score of minority class 1, and the difference between the f1-scores of both has been dreastically reduced too."
      ],
      "metadata": {
        "id": "iVlage5J_tyc"
      }
    },
    {
      "cell_type": "markdown",
      "source": [
        "Method4: **Use of Ensemble with undersampling**"
      ],
      "metadata": {
        "id": "ePJ3-GRPBVeh"
      }
    },
    {
      "cell_type": "code",
      "source": [
        "df2.Churn.value_counts()"
      ],
      "metadata": {
        "colab": {
          "base_uri": "https://localhost:8080/"
        },
        "id": "cfGCy5jBBZXP",
        "outputId": "fecf4aa9-ab90-4cfe-9ff6-342e83d4994b"
      },
      "execution_count": null,
      "outputs": [
        {
          "output_type": "execute_result",
          "data": {
            "text/plain": [
              "0    5163\n",
              "1    1869\n",
              "Name: Churn, dtype: int64"
            ]
          },
          "metadata": {},
          "execution_count": 38
        }
      ]
    },
    {
      "cell_type": "code",
      "source": [
        "# Regain Original features and labels\n",
        "X = df2.drop('Churn',axis='columns')\n",
        "y = df2['Churn']"
      ],
      "metadata": {
        "id": "uALc0nnzBdRv"
      },
      "execution_count": null,
      "outputs": []
    },
    {
      "cell_type": "code",
      "source": [
        "from sklearn.model_selection import train_test_split\n",
        "X_train, X_test, y_train, y_test = train_test_split(X, y, test_size=0.2, random_state=15, stratify=y)"
      ],
      "metadata": {
        "id": "ZuI0DalKBlhH"
      },
      "execution_count": null,
      "outputs": []
    },
    {
      "cell_type": "code",
      "source": [
        "y_train.value_counts()"
      ],
      "metadata": {
        "colab": {
          "base_uri": "https://localhost:8080/"
        },
        "id": "JQbg4_CPB6kP",
        "outputId": "feab5691-7162-447c-880c-d799b52d3767"
      },
      "execution_count": null,
      "outputs": [
        {
          "output_type": "execute_result",
          "data": {
            "text/plain": [
              "0    4130\n",
              "1    1495\n",
              "Name: Churn, dtype: int64"
            ]
          },
          "metadata": {},
          "execution_count": 41
        }
      ]
    },
    {
      "cell_type": "markdown",
      "source": [
        "model-1 --> **class1(1495) + class0(0, 1495)**\n",
        "\n",
        "model-2 --> **class1(1495) + class0(1496, 2990)**\n",
        "\n",
        "model-3 --> **class1(1495) + class0(2990, 4130)**"
      ],
      "metadata": {
        "id": "uXC-dmvoCVKI"
      }
    },
    {
      "cell_type": "code",
      "source": [
        "df3 = X_train.copy()\n",
        "df3['Churn'] = y_train"
      ],
      "metadata": {
        "id": "fkB9oP0bC0Mr"
      },
      "execution_count": null,
      "outputs": []
    },
    {
      "cell_type": "code",
      "source": [
        "df3_class0 = df3[df3.Churn==0]\n",
        "df3_class1 = df3[df3.Churn==1]"
      ],
      "metadata": {
        "id": "AtLz0m-xSqdE"
      },
      "execution_count": null,
      "outputs": []
    },
    {
      "cell_type": "code",
      "source": [
        "def get_train_batch(df_majority, df_minority, start, end):\n",
        "    df_train = pd.concat([df_majority[start:end], df_minority], axis=0)\n",
        "\n",
        "    X_train = df_train.drop('Churn', axis='columns')\n",
        "    y_train = df_train.Churn\n",
        "    return X_train, y_train"
      ],
      "metadata": {
        "id": "JPgECpAiSwWr"
      },
      "execution_count": null,
      "outputs": []
    },
    {
      "cell_type": "markdown",
      "source": [
        "**First Model**"
      ],
      "metadata": {
        "id": "1lwqp_1QTAS8"
      }
    },
    {
      "cell_type": "code",
      "source": [
        "X_train, y_train = get_train_batch(df3_class0, df3_class1, 0, 1495)\n",
        "\n",
        "y_pred1 = ANN(X_train, y_train, X_test, y_test, 'binary_crossentropy', -1)"
      ],
      "metadata": {
        "colab": {
          "base_uri": "https://localhost:8080/"
        },
        "id": "eqi_4qCTS8Fn",
        "outputId": "64c5b421-636c-4deb-cd70-d179ff6a71b5"
      },
      "execution_count": null,
      "outputs": [
        {
          "output_type": "stream",
          "name": "stdout",
          "text": [
            "Epoch 1/100\n",
            "94/94 [==============================] - 1s 6ms/step - loss: 2.3865 - accuracy: 0.4532\n",
            "Epoch 2/100\n",
            "94/94 [==============================] - 0s 4ms/step - loss: 0.7590 - accuracy: 0.6612\n",
            "Epoch 3/100\n",
            "94/94 [==============================] - 0s 4ms/step - loss: 0.7634 - accuracy: 0.6953\n",
            "Epoch 4/100\n",
            "94/94 [==============================] - 0s 3ms/step - loss: 0.5790 - accuracy: 0.7207\n",
            "Epoch 5/100\n",
            "94/94 [==============================] - 0s 3ms/step - loss: 0.7570 - accuracy: 0.7080\n",
            "Epoch 6/100\n",
            "94/94 [==============================] - 0s 3ms/step - loss: 0.7688 - accuracy: 0.7140\n",
            "Epoch 7/100\n",
            "94/94 [==============================] - 0s 3ms/step - loss: 0.7082 - accuracy: 0.7217\n",
            "Epoch 8/100\n",
            "94/94 [==============================] - 0s 3ms/step - loss: 0.6046 - accuracy: 0.7341\n",
            "Epoch 9/100\n",
            "94/94 [==============================] - 0s 3ms/step - loss: 0.5959 - accuracy: 0.7278\n",
            "Epoch 10/100\n",
            "94/94 [==============================] - 0s 3ms/step - loss: 0.7933 - accuracy: 0.7094\n",
            "Epoch 11/100\n",
            "94/94 [==============================] - 0s 4ms/step - loss: 0.5976 - accuracy: 0.7391\n",
            "Epoch 12/100\n",
            "94/94 [==============================] - 0s 3ms/step - loss: 0.5615 - accuracy: 0.7522\n",
            "Epoch 13/100\n",
            "94/94 [==============================] - 0s 3ms/step - loss: 0.7240 - accuracy: 0.7207\n",
            "Epoch 14/100\n",
            "94/94 [==============================] - 0s 3ms/step - loss: 0.6344 - accuracy: 0.7301\n",
            "Epoch 15/100\n",
            "94/94 [==============================] - 0s 3ms/step - loss: 0.7227 - accuracy: 0.7258\n",
            "Epoch 16/100\n",
            "94/94 [==============================] - 0s 2ms/step - loss: 0.7524 - accuracy: 0.7234\n",
            "Epoch 17/100\n",
            "94/94 [==============================] - 0s 3ms/step - loss: 0.6125 - accuracy: 0.7361\n",
            "Epoch 18/100\n",
            "94/94 [==============================] - 0s 2ms/step - loss: 0.5875 - accuracy: 0.7505\n",
            "Epoch 19/100\n",
            "94/94 [==============================] - 0s 3ms/step - loss: 0.8752 - accuracy: 0.7174\n",
            "Epoch 20/100\n",
            "94/94 [==============================] - 0s 3ms/step - loss: 0.5375 - accuracy: 0.7548\n",
            "Epoch 21/100\n",
            "94/94 [==============================] - 0s 3ms/step - loss: 0.5365 - accuracy: 0.7515\n",
            "Epoch 22/100\n",
            "94/94 [==============================] - 0s 4ms/step - loss: 0.5848 - accuracy: 0.7525\n",
            "Epoch 23/100\n",
            "94/94 [==============================] - 1s 6ms/step - loss: 0.7180 - accuracy: 0.7284\n",
            "Epoch 24/100\n",
            "94/94 [==============================] - 1s 6ms/step - loss: 0.5911 - accuracy: 0.7425\n",
            "Epoch 25/100\n",
            "94/94 [==============================] - 1s 6ms/step - loss: 0.5759 - accuracy: 0.7462\n",
            "Epoch 26/100\n",
            "94/94 [==============================] - 1s 6ms/step - loss: 0.6183 - accuracy: 0.7381\n",
            "Epoch 27/100\n",
            "94/94 [==============================] - 0s 5ms/step - loss: 0.5940 - accuracy: 0.7388\n",
            "Epoch 28/100\n",
            "94/94 [==============================] - 1s 6ms/step - loss: 0.7918 - accuracy: 0.7264\n",
            "Epoch 29/100\n",
            "94/94 [==============================] - 0s 5ms/step - loss: 0.6554 - accuracy: 0.7371\n",
            "Epoch 30/100\n",
            "94/94 [==============================] - 1s 6ms/step - loss: 0.5137 - accuracy: 0.7659\n",
            "Epoch 31/100\n",
            "94/94 [==============================] - 1s 6ms/step - loss: 0.5756 - accuracy: 0.7468\n",
            "Epoch 32/100\n",
            "94/94 [==============================] - 0s 5ms/step - loss: 0.6607 - accuracy: 0.7401\n",
            "Epoch 33/100\n",
            "94/94 [==============================] - 0s 5ms/step - loss: 0.6544 - accuracy: 0.7371\n",
            "Epoch 34/100\n",
            "94/94 [==============================] - 1s 5ms/step - loss: 0.8773 - accuracy: 0.7157\n",
            "Epoch 35/100\n",
            "94/94 [==============================] - 1s 6ms/step - loss: 0.6552 - accuracy: 0.7391\n",
            "Epoch 36/100\n",
            "94/94 [==============================] - 1s 5ms/step - loss: 0.6956 - accuracy: 0.7338\n",
            "Epoch 37/100\n",
            "94/94 [==============================] - 0s 5ms/step - loss: 0.5625 - accuracy: 0.7518\n",
            "Epoch 38/100\n",
            "94/94 [==============================] - 1s 8ms/step - loss: 0.5839 - accuracy: 0.7462\n",
            "Epoch 39/100\n",
            "94/94 [==============================] - 1s 6ms/step - loss: 0.6309 - accuracy: 0.7321\n",
            "Epoch 40/100\n",
            "94/94 [==============================] - 1s 7ms/step - loss: 0.6046 - accuracy: 0.7368\n",
            "Epoch 41/100\n",
            "94/94 [==============================] - 1s 6ms/step - loss: 0.6224 - accuracy: 0.7365\n",
            "Epoch 42/100\n",
            "94/94 [==============================] - 0s 5ms/step - loss: 0.6081 - accuracy: 0.7428\n",
            "Epoch 43/100\n",
            "94/94 [==============================] - 1s 5ms/step - loss: 0.5575 - accuracy: 0.7525\n",
            "Epoch 44/100\n",
            "94/94 [==============================] - 1s 7ms/step - loss: 0.6060 - accuracy: 0.7411\n",
            "Epoch 45/100\n",
            "94/94 [==============================] - 0s 5ms/step - loss: 0.6492 - accuracy: 0.7431\n",
            "Epoch 46/100\n",
            "94/94 [==============================] - 1s 6ms/step - loss: 0.5384 - accuracy: 0.7508\n",
            "Epoch 47/100\n",
            "94/94 [==============================] - 1s 7ms/step - loss: 0.7082 - accuracy: 0.7391\n",
            "Epoch 48/100\n",
            "94/94 [==============================] - 0s 5ms/step - loss: 0.5774 - accuracy: 0.7542\n",
            "Epoch 49/100\n",
            "94/94 [==============================] - 0s 4ms/step - loss: 0.7261 - accuracy: 0.7227\n",
            "Epoch 50/100\n",
            "94/94 [==============================] - 0s 5ms/step - loss: 0.7034 - accuracy: 0.7271\n",
            "Epoch 51/100\n",
            "94/94 [==============================] - 0s 5ms/step - loss: 0.6734 - accuracy: 0.7365\n",
            "Epoch 52/100\n",
            "94/94 [==============================] - 0s 4ms/step - loss: 0.7949 - accuracy: 0.7217\n",
            "Epoch 53/100\n",
            "94/94 [==============================] - 1s 5ms/step - loss: 0.5310 - accuracy: 0.7625\n",
            "Epoch 54/100\n",
            "94/94 [==============================] - 1s 8ms/step - loss: 0.7312 - accuracy: 0.7237\n",
            "Epoch 55/100\n",
            "94/94 [==============================] - 1s 6ms/step - loss: 0.5300 - accuracy: 0.7635\n",
            "Epoch 56/100\n",
            "94/94 [==============================] - 0s 5ms/step - loss: 0.5695 - accuracy: 0.7475\n",
            "Epoch 57/100\n",
            "94/94 [==============================] - 1s 9ms/step - loss: 0.5524 - accuracy: 0.7562\n",
            "Epoch 58/100\n",
            "94/94 [==============================] - 1s 8ms/step - loss: 0.7868 - accuracy: 0.7311\n",
            "Epoch 59/100\n",
            "94/94 [==============================] - 1s 9ms/step - loss: 0.5916 - accuracy: 0.7418\n",
            "Epoch 60/100\n",
            "94/94 [==============================] - 1s 10ms/step - loss: 0.6541 - accuracy: 0.7375\n",
            "Epoch 61/100\n",
            "94/94 [==============================] - 1s 9ms/step - loss: 0.5468 - accuracy: 0.7548\n",
            "Epoch 62/100\n",
            "94/94 [==============================] - 1s 6ms/step - loss: 0.5047 - accuracy: 0.7632\n",
            "Epoch 63/100\n",
            "94/94 [==============================] - 0s 3ms/step - loss: 0.5357 - accuracy: 0.7569\n",
            "Epoch 64/100\n",
            "94/94 [==============================] - 0s 3ms/step - loss: 0.5719 - accuracy: 0.7475\n",
            "Epoch 65/100\n",
            "94/94 [==============================] - 0s 3ms/step - loss: 0.5486 - accuracy: 0.7505\n",
            "Epoch 66/100\n",
            "94/94 [==============================] - 0s 3ms/step - loss: 0.5888 - accuracy: 0.7505\n",
            "Epoch 67/100\n",
            "94/94 [==============================] - 0s 3ms/step - loss: 0.5949 - accuracy: 0.7445\n",
            "Epoch 68/100\n",
            "94/94 [==============================] - 0s 3ms/step - loss: 0.5153 - accuracy: 0.7639\n",
            "Epoch 69/100\n",
            "94/94 [==============================] - 0s 3ms/step - loss: 0.6302 - accuracy: 0.7281\n",
            "Epoch 70/100\n",
            "94/94 [==============================] - 0s 3ms/step - loss: 0.6640 - accuracy: 0.7405\n",
            "Epoch 71/100\n",
            "94/94 [==============================] - 0s 3ms/step - loss: 0.4950 - accuracy: 0.7692\n",
            "Epoch 72/100\n",
            "94/94 [==============================] - 0s 3ms/step - loss: 0.5179 - accuracy: 0.7569\n",
            "Epoch 73/100\n",
            "94/94 [==============================] - 0s 3ms/step - loss: 0.6487 - accuracy: 0.7288\n",
            "Epoch 74/100\n",
            "94/94 [==============================] - 0s 3ms/step - loss: 0.6021 - accuracy: 0.7458\n",
            "Epoch 75/100\n",
            "94/94 [==============================] - 0s 2ms/step - loss: 0.5500 - accuracy: 0.7492\n",
            "Epoch 76/100\n",
            "94/94 [==============================] - 0s 3ms/step - loss: 0.5526 - accuracy: 0.7498\n",
            "Epoch 77/100\n",
            "94/94 [==============================] - 0s 3ms/step - loss: 0.5553 - accuracy: 0.7495\n",
            "Epoch 78/100\n",
            "94/94 [==============================] - 0s 3ms/step - loss: 0.5521 - accuracy: 0.7538\n",
            "Epoch 79/100\n",
            "94/94 [==============================] - 0s 3ms/step - loss: 0.6244 - accuracy: 0.7415\n",
            "Epoch 80/100\n",
            "94/94 [==============================] - 0s 3ms/step - loss: 0.5188 - accuracy: 0.7575\n",
            "Epoch 81/100\n",
            "94/94 [==============================] - 0s 3ms/step - loss: 0.5152 - accuracy: 0.7659\n",
            "Epoch 82/100\n",
            "94/94 [==============================] - 0s 3ms/step - loss: 0.5547 - accuracy: 0.7565\n",
            "Epoch 83/100\n",
            "94/94 [==============================] - 0s 3ms/step - loss: 0.5237 - accuracy: 0.7548\n",
            "Epoch 84/100\n",
            "94/94 [==============================] - 0s 3ms/step - loss: 0.6112 - accuracy: 0.7441\n",
            "Epoch 85/100\n",
            "94/94 [==============================] - 0s 3ms/step - loss: 0.6748 - accuracy: 0.7284\n",
            "Epoch 86/100\n",
            "94/94 [==============================] - 0s 3ms/step - loss: 0.5773 - accuracy: 0.7448\n",
            "Epoch 87/100\n",
            "94/94 [==============================] - 0s 4ms/step - loss: 0.5113 - accuracy: 0.7582\n",
            "Epoch 88/100\n",
            "94/94 [==============================] - 0s 5ms/step - loss: 0.5295 - accuracy: 0.7602\n",
            "Epoch 89/100\n",
            "94/94 [==============================] - 1s 5ms/step - loss: 0.5067 - accuracy: 0.7635\n",
            "Epoch 90/100\n",
            "94/94 [==============================] - 1s 6ms/step - loss: 0.6082 - accuracy: 0.7421\n",
            "Epoch 91/100\n",
            "94/94 [==============================] - 1s 6ms/step - loss: 0.5635 - accuracy: 0.7502\n",
            "Epoch 92/100\n",
            "94/94 [==============================] - 1s 6ms/step - loss: 0.5488 - accuracy: 0.7482\n",
            "Epoch 93/100\n",
            "94/94 [==============================] - 1s 6ms/step - loss: 0.6386 - accuracy: 0.7445\n",
            "Epoch 94/100\n",
            "94/94 [==============================] - 1s 7ms/step - loss: 0.5351 - accuracy: 0.7548\n",
            "Epoch 95/100\n",
            "94/94 [==============================] - 1s 7ms/step - loss: 0.5609 - accuracy: 0.7559\n",
            "Epoch 96/100\n",
            "94/94 [==============================] - 1s 6ms/step - loss: 0.6712 - accuracy: 0.7331\n",
            "Epoch 97/100\n",
            "94/94 [==============================] - 1s 6ms/step - loss: 0.5178 - accuracy: 0.7669\n",
            "Epoch 98/100\n",
            "94/94 [==============================] - 1s 7ms/step - loss: 0.5014 - accuracy: 0.7676\n",
            "Epoch 99/100\n",
            "94/94 [==============================] - 1s 5ms/step - loss: 0.6324 - accuracy: 0.7321\n",
            "Epoch 100/100\n",
            "94/94 [==============================] - 1s 9ms/step - loss: 0.5041 - accuracy: 0.7609\n",
            "44/44 [==============================] - 1s 6ms/step - loss: 0.5150 - accuracy: 0.7385\n",
            "[0.5149989128112793, 0.7384505867958069]\n",
            "44/44 [==============================] - 0s 4ms/step\n",
            "Classification Report: \n",
            "               precision    recall  f1-score   support\n",
            "\n",
            "           0       0.90      0.72      0.80      1033\n",
            "           1       0.51      0.79      0.62       374\n",
            "\n",
            "    accuracy                           0.74      1407\n",
            "   macro avg       0.71      0.76      0.71      1407\n",
            "weighted avg       0.80      0.74      0.75      1407\n",
            "\n"
          ]
        }
      ]
    },
    {
      "cell_type": "markdown",
      "source": [
        "**Second Model**"
      ],
      "metadata": {
        "id": "S1AovBoMTUNh"
      }
    },
    {
      "cell_type": "code",
      "source": [
        "X_train, y_train = get_train_batch(df3_class0, df3_class1, 1495, 2990)\n",
        "\n",
        "y_pred2 = ANN(X_train, y_train, X_test, y_test, 'binary_crossentropy', -1)"
      ],
      "metadata": {
        "colab": {
          "base_uri": "https://localhost:8080/"
        },
        "id": "wNlh0uXCTQHB",
        "outputId": "02b6b4c6-aede-48d6-a423-2fcbcfa48cd7"
      },
      "execution_count": null,
      "outputs": [
        {
          "output_type": "stream",
          "name": "stdout",
          "text": [
            "Epoch 1/100\n",
            "94/94 [==============================] - 2s 6ms/step - loss: 16.8513 - accuracy: 0.5920\n",
            "Epoch 2/100\n",
            "94/94 [==============================] - 1s 10ms/step - loss: 1.0439 - accuracy: 0.6605\n",
            "Epoch 3/100\n",
            "94/94 [==============================] - 1s 8ms/step - loss: 1.8081 - accuracy: 0.6756\n",
            "Epoch 4/100\n",
            "94/94 [==============================] - 0s 5ms/step - loss: 0.9098 - accuracy: 0.7023\n",
            "Epoch 5/100\n",
            "94/94 [==============================] - 1s 5ms/step - loss: 1.3560 - accuracy: 0.6953\n",
            "Epoch 6/100\n",
            "94/94 [==============================] - 1s 6ms/step - loss: 0.8562 - accuracy: 0.7161\n",
            "Epoch 7/100\n",
            "94/94 [==============================] - 1s 7ms/step - loss: 0.9345 - accuracy: 0.7147\n",
            "Epoch 8/100\n",
            "94/94 [==============================] - 1s 7ms/step - loss: 0.8446 - accuracy: 0.7161\n",
            "Epoch 9/100\n",
            "94/94 [==============================] - 1s 6ms/step - loss: 0.8143 - accuracy: 0.7100\n",
            "Epoch 10/100\n",
            "94/94 [==============================] - 0s 5ms/step - loss: 1.3531 - accuracy: 0.6997\n",
            "Epoch 11/100\n",
            "94/94 [==============================] - 1s 7ms/step - loss: 1.1302 - accuracy: 0.7017\n",
            "Epoch 12/100\n",
            "94/94 [==============================] - 1s 6ms/step - loss: 0.6493 - accuracy: 0.7334\n",
            "Epoch 13/100\n",
            "94/94 [==============================] - 0s 5ms/step - loss: 1.0513 - accuracy: 0.7087\n",
            "Epoch 14/100\n",
            "94/94 [==============================] - 1s 7ms/step - loss: 1.2977 - accuracy: 0.7137\n",
            "Epoch 15/100\n",
            "94/94 [==============================] - 0s 3ms/step - loss: 1.2972 - accuracy: 0.6926\n",
            "Epoch 16/100\n",
            "94/94 [==============================] - 0s 3ms/step - loss: 0.8615 - accuracy: 0.7278\n",
            "Epoch 17/100\n",
            "94/94 [==============================] - 0s 3ms/step - loss: 0.8386 - accuracy: 0.7281\n",
            "Epoch 18/100\n",
            "94/94 [==============================] - 0s 3ms/step - loss: 0.7483 - accuracy: 0.7274\n",
            "Epoch 19/100\n",
            "94/94 [==============================] - 0s 3ms/step - loss: 0.6503 - accuracy: 0.7371\n",
            "Epoch 20/100\n",
            "94/94 [==============================] - 0s 3ms/step - loss: 0.9380 - accuracy: 0.7047\n",
            "Epoch 21/100\n",
            "94/94 [==============================] - 0s 3ms/step - loss: 0.8374 - accuracy: 0.7254\n",
            "Epoch 22/100\n",
            "94/94 [==============================] - 0s 3ms/step - loss: 0.6664 - accuracy: 0.7405\n",
            "Epoch 23/100\n",
            "94/94 [==============================] - 0s 3ms/step - loss: 0.7836 - accuracy: 0.7244\n",
            "Epoch 24/100\n",
            "94/94 [==============================] - 0s 3ms/step - loss: 1.1282 - accuracy: 0.7090\n",
            "Epoch 25/100\n",
            "94/94 [==============================] - 0s 3ms/step - loss: 1.5910 - accuracy: 0.6977\n",
            "Epoch 26/100\n",
            "94/94 [==============================] - 0s 3ms/step - loss: 0.9125 - accuracy: 0.7271\n",
            "Epoch 27/100\n",
            "94/94 [==============================] - 0s 3ms/step - loss: 1.5187 - accuracy: 0.7057\n",
            "Epoch 28/100\n",
            "94/94 [==============================] - 0s 3ms/step - loss: 1.3775 - accuracy: 0.7067\n",
            "Epoch 29/100\n",
            "94/94 [==============================] - 0s 3ms/step - loss: 0.8693 - accuracy: 0.7261\n",
            "Epoch 30/100\n",
            "94/94 [==============================] - 0s 3ms/step - loss: 0.6962 - accuracy: 0.7385\n",
            "Epoch 31/100\n",
            "94/94 [==============================] - 0s 3ms/step - loss: 0.5659 - accuracy: 0.7508\n",
            "Epoch 32/100\n",
            "94/94 [==============================] - 0s 3ms/step - loss: 0.7049 - accuracy: 0.7211\n",
            "Epoch 33/100\n",
            "94/94 [==============================] - 0s 3ms/step - loss: 1.1147 - accuracy: 0.7120\n",
            "Epoch 34/100\n",
            "94/94 [==============================] - 0s 3ms/step - loss: 0.6659 - accuracy: 0.7308\n",
            "Epoch 35/100\n",
            "94/94 [==============================] - 0s 3ms/step - loss: 0.7364 - accuracy: 0.7284\n",
            "Epoch 36/100\n",
            "94/94 [==============================] - 0s 3ms/step - loss: 0.6310 - accuracy: 0.7378\n",
            "Epoch 37/100\n",
            "94/94 [==============================] - 0s 3ms/step - loss: 0.8229 - accuracy: 0.7251\n",
            "Epoch 38/100\n",
            "94/94 [==============================] - 0s 3ms/step - loss: 0.7701 - accuracy: 0.7221\n",
            "Epoch 39/100\n",
            "94/94 [==============================] - 0s 3ms/step - loss: 1.0266 - accuracy: 0.7124\n",
            "Epoch 40/100\n",
            "94/94 [==============================] - 0s 3ms/step - loss: 0.8712 - accuracy: 0.7274\n",
            "Epoch 41/100\n",
            "94/94 [==============================] - 0s 3ms/step - loss: 1.6846 - accuracy: 0.6853\n",
            "Epoch 42/100\n",
            "94/94 [==============================] - 0s 3ms/step - loss: 0.8680 - accuracy: 0.7261\n",
            "Epoch 43/100\n",
            "94/94 [==============================] - 0s 3ms/step - loss: 0.7952 - accuracy: 0.7281\n",
            "Epoch 44/100\n",
            "94/94 [==============================] - 0s 3ms/step - loss: 1.0885 - accuracy: 0.7117\n",
            "Epoch 45/100\n",
            "94/94 [==============================] - 0s 3ms/step - loss: 1.3711 - accuracy: 0.6960\n",
            "Epoch 46/100\n",
            "94/94 [==============================] - 0s 3ms/step - loss: 0.9231 - accuracy: 0.7197\n",
            "Epoch 47/100\n",
            "94/94 [==============================] - 0s 3ms/step - loss: 0.7468 - accuracy: 0.7375\n",
            "Epoch 48/100\n",
            "94/94 [==============================] - 0s 3ms/step - loss: 0.7639 - accuracy: 0.7241\n",
            "Epoch 49/100\n",
            "94/94 [==============================] - 0s 3ms/step - loss: 0.7810 - accuracy: 0.7314\n",
            "Epoch 50/100\n",
            "94/94 [==============================] - 0s 3ms/step - loss: 0.9110 - accuracy: 0.7114\n",
            "Epoch 51/100\n",
            "94/94 [==============================] - 0s 3ms/step - loss: 0.8730 - accuracy: 0.7241\n",
            "Epoch 52/100\n",
            "94/94 [==============================] - 0s 3ms/step - loss: 1.4786 - accuracy: 0.7094\n",
            "Epoch 53/100\n",
            "94/94 [==============================] - 0s 3ms/step - loss: 1.5260 - accuracy: 0.7117\n",
            "Epoch 54/100\n",
            "94/94 [==============================] - 0s 3ms/step - loss: 1.0548 - accuracy: 0.7074\n",
            "Epoch 55/100\n",
            "94/94 [==============================] - 0s 3ms/step - loss: 0.8103 - accuracy: 0.7308\n",
            "Epoch 56/100\n",
            "94/94 [==============================] - 0s 3ms/step - loss: 0.8136 - accuracy: 0.7237\n",
            "Epoch 57/100\n",
            "94/94 [==============================] - 0s 3ms/step - loss: 0.8203 - accuracy: 0.7187\n",
            "Epoch 58/100\n",
            "94/94 [==============================] - 0s 3ms/step - loss: 0.8225 - accuracy: 0.7254\n",
            "Epoch 59/100\n",
            "94/94 [==============================] - 0s 3ms/step - loss: 0.9827 - accuracy: 0.7104\n",
            "Epoch 60/100\n",
            "94/94 [==============================] - 0s 3ms/step - loss: 0.7764 - accuracy: 0.7378\n",
            "Epoch 61/100\n",
            "94/94 [==============================] - 0s 3ms/step - loss: 0.7158 - accuracy: 0.7351\n",
            "Epoch 62/100\n",
            "94/94 [==============================] - 0s 3ms/step - loss: 1.0859 - accuracy: 0.7040\n",
            "Epoch 63/100\n",
            "94/94 [==============================] - 0s 2ms/step - loss: 1.0432 - accuracy: 0.7151\n",
            "Epoch 64/100\n",
            "94/94 [==============================] - 0s 3ms/step - loss: 0.8114 - accuracy: 0.7224\n",
            "Epoch 65/100\n",
            "94/94 [==============================] - 0s 3ms/step - loss: 0.8592 - accuracy: 0.7268\n",
            "Epoch 66/100\n",
            "94/94 [==============================] - 0s 3ms/step - loss: 0.7874 - accuracy: 0.7314\n",
            "Epoch 67/100\n",
            "94/94 [==============================] - 0s 3ms/step - loss: 0.9433 - accuracy: 0.7151\n",
            "Epoch 68/100\n",
            "94/94 [==============================] - 0s 3ms/step - loss: 0.9132 - accuracy: 0.7247\n",
            "Epoch 69/100\n",
            "94/94 [==============================] - 0s 3ms/step - loss: 0.6291 - accuracy: 0.7475\n",
            "Epoch 70/100\n",
            "94/94 [==============================] - 0s 3ms/step - loss: 0.9648 - accuracy: 0.7211\n",
            "Epoch 71/100\n",
            "94/94 [==============================] - 0s 2ms/step - loss: 1.1121 - accuracy: 0.7057\n",
            "Epoch 72/100\n",
            "94/94 [==============================] - 0s 3ms/step - loss: 0.8374 - accuracy: 0.7207\n",
            "Epoch 73/100\n",
            "94/94 [==============================] - 0s 3ms/step - loss: 0.6880 - accuracy: 0.7341\n",
            "Epoch 74/100\n",
            "94/94 [==============================] - 0s 3ms/step - loss: 0.9717 - accuracy: 0.7177\n",
            "Epoch 75/100\n",
            "94/94 [==============================] - 0s 3ms/step - loss: 0.8693 - accuracy: 0.7217\n",
            "Epoch 76/100\n",
            "94/94 [==============================] - 0s 3ms/step - loss: 0.7287 - accuracy: 0.7264\n",
            "Epoch 77/100\n",
            "94/94 [==============================] - 0s 3ms/step - loss: 1.1409 - accuracy: 0.7278\n",
            "Epoch 78/100\n",
            "94/94 [==============================] - 0s 3ms/step - loss: 0.9644 - accuracy: 0.7284\n",
            "Epoch 79/100\n",
            "94/94 [==============================] - 0s 3ms/step - loss: 1.1800 - accuracy: 0.7100\n",
            "Epoch 80/100\n",
            "94/94 [==============================] - 0s 3ms/step - loss: 0.7232 - accuracy: 0.7334\n",
            "Epoch 81/100\n",
            "94/94 [==============================] - 0s 3ms/step - loss: 0.8481 - accuracy: 0.7288\n",
            "Epoch 82/100\n",
            "94/94 [==============================] - 0s 3ms/step - loss: 0.6955 - accuracy: 0.7475\n",
            "Epoch 83/100\n",
            "94/94 [==============================] - 0s 3ms/step - loss: 0.7584 - accuracy: 0.7314\n",
            "Epoch 84/100\n",
            "94/94 [==============================] - 0s 3ms/step - loss: 1.0746 - accuracy: 0.7094\n",
            "Epoch 85/100\n",
            "94/94 [==============================] - 0s 3ms/step - loss: 0.6905 - accuracy: 0.7388\n",
            "Epoch 86/100\n",
            "94/94 [==============================] - 0s 3ms/step - loss: 0.8270 - accuracy: 0.7221\n",
            "Epoch 87/100\n",
            "94/94 [==============================] - 0s 3ms/step - loss: 0.7465 - accuracy: 0.7428\n",
            "Epoch 88/100\n",
            "94/94 [==============================] - 0s 3ms/step - loss: 0.8924 - accuracy: 0.7177\n",
            "Epoch 89/100\n",
            "94/94 [==============================] - 0s 2ms/step - loss: 0.7044 - accuracy: 0.7314\n",
            "Epoch 90/100\n",
            "94/94 [==============================] - 0s 3ms/step - loss: 0.6331 - accuracy: 0.7482\n",
            "Epoch 91/100\n",
            "94/94 [==============================] - 0s 2ms/step - loss: 1.2430 - accuracy: 0.7000\n",
            "Epoch 92/100\n",
            "94/94 [==============================] - 0s 3ms/step - loss: 0.8959 - accuracy: 0.7321\n",
            "Epoch 93/100\n",
            "94/94 [==============================] - 0s 2ms/step - loss: 1.1983 - accuracy: 0.7187\n",
            "Epoch 94/100\n",
            "94/94 [==============================] - 0s 3ms/step - loss: 1.3766 - accuracy: 0.7070\n",
            "Epoch 95/100\n",
            "94/94 [==============================] - 0s 3ms/step - loss: 0.6936 - accuracy: 0.7411\n",
            "Epoch 96/100\n",
            "94/94 [==============================] - 0s 3ms/step - loss: 1.1123 - accuracy: 0.7090\n",
            "Epoch 97/100\n",
            "94/94 [==============================] - 0s 3ms/step - loss: 0.5948 - accuracy: 0.7498\n",
            "Epoch 98/100\n",
            "94/94 [==============================] - 0s 2ms/step - loss: 0.9114 - accuracy: 0.7167\n",
            "Epoch 99/100\n",
            "94/94 [==============================] - 0s 3ms/step - loss: 0.9524 - accuracy: 0.7124\n",
            "Epoch 100/100\n",
            "94/94 [==============================] - 0s 2ms/step - loss: 0.7904 - accuracy: 0.7308\n",
            "44/44 [==============================] - 0s 2ms/step - loss: 0.7320 - accuracy: 0.6830\n",
            "[0.7319818139076233, 0.6830134987831116]\n",
            "44/44 [==============================] - 0s 1ms/step\n",
            "Classification Report: \n",
            "               precision    recall  f1-score   support\n",
            "\n",
            "           0       0.93      0.61      0.74      1033\n",
            "           1       0.45      0.87      0.59       374\n",
            "\n",
            "    accuracy                           0.68      1407\n",
            "   macro avg       0.69      0.74      0.67      1407\n",
            "weighted avg       0.80      0.68      0.70      1407\n",
            "\n"
          ]
        }
      ]
    },
    {
      "cell_type": "markdown",
      "source": [
        "**Third Model**"
      ],
      "metadata": {
        "id": "2gbIjDYCThWZ"
      }
    },
    {
      "cell_type": "code",
      "source": [
        "X_train, y_train = get_train_batch(df3_class0, df3_class1, 2990, 4130)\n",
        "\n",
        "y_pred3 = ANN(X_train, y_train, X_test, y_test, 'binary_crossentropy', -1)"
      ],
      "metadata": {
        "colab": {
          "base_uri": "https://localhost:8080/"
        },
        "id": "VGU56yeUTkSk",
        "outputId": "5607e4a9-4ceb-4f95-a1cf-895c95692be4"
      },
      "execution_count": null,
      "outputs": [
        {
          "output_type": "stream",
          "name": "stdout",
          "text": [
            "Epoch 1/100\n",
            "83/83 [==============================] - 1s 2ms/step - loss: 7.2279 - accuracy: 0.5693\n",
            "Epoch 2/100\n",
            "83/83 [==============================] - 0s 3ms/step - loss: 0.9697 - accuracy: 0.6603\n",
            "Epoch 3/100\n",
            "83/83 [==============================] - 0s 4ms/step - loss: 0.5817 - accuracy: 0.7283\n",
            "Epoch 4/100\n",
            "83/83 [==============================] - 0s 4ms/step - loss: 0.6040 - accuracy: 0.7343\n",
            "Epoch 5/100\n",
            "83/83 [==============================] - 0s 4ms/step - loss: 0.5464 - accuracy: 0.7465\n",
            "Epoch 6/100\n",
            "83/83 [==============================] - 0s 4ms/step - loss: 0.6701 - accuracy: 0.7161\n",
            "Epoch 7/100\n",
            "83/83 [==============================] - 0s 4ms/step - loss: 0.5748 - accuracy: 0.7366\n",
            "Epoch 8/100\n",
            "83/83 [==============================] - 0s 4ms/step - loss: 0.6944 - accuracy: 0.7237\n",
            "Epoch 9/100\n",
            "83/83 [==============================] - 0s 4ms/step - loss: 0.6363 - accuracy: 0.7336\n",
            "Epoch 10/100\n",
            "83/83 [==============================] - 0s 4ms/step - loss: 0.6730 - accuracy: 0.7241\n",
            "Epoch 11/100\n",
            "83/83 [==============================] - 0s 4ms/step - loss: 0.6074 - accuracy: 0.7381\n",
            "Epoch 12/100\n",
            "83/83 [==============================] - 0s 4ms/step - loss: 0.7010 - accuracy: 0.7287\n",
            "Epoch 13/100\n",
            "83/83 [==============================] - 0s 4ms/step - loss: 0.7245 - accuracy: 0.7279\n",
            "Epoch 14/100\n",
            "83/83 [==============================] - 0s 4ms/step - loss: 0.5700 - accuracy: 0.7431\n",
            "Epoch 15/100\n",
            "83/83 [==============================] - 0s 5ms/step - loss: 0.6539 - accuracy: 0.7355\n",
            "Epoch 16/100\n",
            "83/83 [==============================] - 0s 3ms/step - loss: 0.5522 - accuracy: 0.7552\n",
            "Epoch 17/100\n",
            "83/83 [==============================] - 0s 2ms/step - loss: 0.6588 - accuracy: 0.7332\n",
            "Epoch 18/100\n",
            "83/83 [==============================] - 0s 2ms/step - loss: 0.7726 - accuracy: 0.7306\n",
            "Epoch 19/100\n",
            "83/83 [==============================] - 0s 3ms/step - loss: 0.6949 - accuracy: 0.7328\n",
            "Epoch 20/100\n",
            "83/83 [==============================] - 0s 3ms/step - loss: 0.6632 - accuracy: 0.7264\n",
            "Epoch 21/100\n",
            "83/83 [==============================] - 0s 3ms/step - loss: 0.5765 - accuracy: 0.7488\n",
            "Epoch 22/100\n",
            "83/83 [==============================] - 0s 3ms/step - loss: 0.6108 - accuracy: 0.7454\n",
            "Epoch 23/100\n",
            "83/83 [==============================] - 0s 3ms/step - loss: 0.5767 - accuracy: 0.7491\n",
            "Epoch 24/100\n",
            "83/83 [==============================] - 0s 3ms/step - loss: 0.5807 - accuracy: 0.7537\n",
            "Epoch 25/100\n",
            "83/83 [==============================] - 0s 3ms/step - loss: 0.7116 - accuracy: 0.7324\n",
            "Epoch 26/100\n",
            "83/83 [==============================] - 0s 3ms/step - loss: 0.6219 - accuracy: 0.7408\n",
            "Epoch 27/100\n",
            "83/83 [==============================] - 0s 3ms/step - loss: 0.5954 - accuracy: 0.7472\n",
            "Epoch 28/100\n",
            "83/83 [==============================] - 0s 3ms/step - loss: 0.5420 - accuracy: 0.7567\n",
            "Epoch 29/100\n",
            "83/83 [==============================] - 0s 3ms/step - loss: 0.5738 - accuracy: 0.7480\n",
            "Epoch 30/100\n",
            "83/83 [==============================] - 0s 3ms/step - loss: 0.7246 - accuracy: 0.7233\n",
            "Epoch 31/100\n",
            "83/83 [==============================] - 0s 3ms/step - loss: 0.5386 - accuracy: 0.7556\n",
            "Epoch 32/100\n",
            "83/83 [==============================] - 0s 3ms/step - loss: 0.6732 - accuracy: 0.7381\n",
            "Epoch 33/100\n",
            "83/83 [==============================] - 0s 3ms/step - loss: 0.7946 - accuracy: 0.7230\n",
            "Epoch 34/100\n",
            "83/83 [==============================] - 0s 3ms/step - loss: 0.7030 - accuracy: 0.7362\n",
            "Epoch 35/100\n",
            "83/83 [==============================] - 0s 3ms/step - loss: 0.6256 - accuracy: 0.7469\n",
            "Epoch 36/100\n",
            "83/83 [==============================] - 0s 3ms/step - loss: 0.5768 - accuracy: 0.7423\n",
            "Epoch 37/100\n",
            "83/83 [==============================] - 0s 3ms/step - loss: 0.5525 - accuracy: 0.7586\n",
            "Epoch 38/100\n",
            "83/83 [==============================] - 0s 3ms/step - loss: 0.6758 - accuracy: 0.7366\n",
            "Epoch 39/100\n",
            "83/83 [==============================] - 0s 3ms/step - loss: 0.6622 - accuracy: 0.7412\n",
            "Epoch 40/100\n",
            "83/83 [==============================] - 0s 3ms/step - loss: 0.6224 - accuracy: 0.7556\n",
            "Epoch 41/100\n",
            "83/83 [==============================] - 0s 4ms/step - loss: 0.5648 - accuracy: 0.7613\n",
            "Epoch 42/100\n",
            "83/83 [==============================] - 0s 5ms/step - loss: 0.8525 - accuracy: 0.7195\n",
            "Epoch 43/100\n",
            "83/83 [==============================] - 0s 4ms/step - loss: 0.6113 - accuracy: 0.7564\n",
            "Epoch 44/100\n",
            "83/83 [==============================] - 0s 5ms/step - loss: 0.5562 - accuracy: 0.7567\n",
            "Epoch 45/100\n",
            "83/83 [==============================] - 0s 5ms/step - loss: 0.5495 - accuracy: 0.7613\n",
            "Epoch 46/100\n",
            "83/83 [==============================] - 0s 6ms/step - loss: 0.6484 - accuracy: 0.7431\n",
            "Epoch 47/100\n",
            "83/83 [==============================] - 0s 5ms/step - loss: 0.5675 - accuracy: 0.7579\n",
            "Epoch 48/100\n",
            "83/83 [==============================] - 0s 5ms/step - loss: 0.6645 - accuracy: 0.7499\n",
            "Epoch 49/100\n",
            "83/83 [==============================] - 0s 6ms/step - loss: 0.5974 - accuracy: 0.7427\n",
            "Epoch 50/100\n",
            "83/83 [==============================] - 0s 6ms/step - loss: 0.5380 - accuracy: 0.7602\n",
            "Epoch 51/100\n",
            "83/83 [==============================] - 0s 5ms/step - loss: 0.5310 - accuracy: 0.7674\n",
            "Epoch 52/100\n",
            "83/83 [==============================] - 0s 3ms/step - loss: 0.6500 - accuracy: 0.7393\n",
            "Epoch 53/100\n",
            "83/83 [==============================] - 0s 3ms/step - loss: 0.5616 - accuracy: 0.7636\n",
            "Epoch 54/100\n",
            "83/83 [==============================] - 0s 4ms/step - loss: 0.5336 - accuracy: 0.7693\n",
            "Epoch 55/100\n",
            "83/83 [==============================] - 0s 4ms/step - loss: 0.5492 - accuracy: 0.7564\n",
            "Epoch 56/100\n",
            "83/83 [==============================] - 0s 4ms/step - loss: 0.5572 - accuracy: 0.7522\n",
            "Epoch 57/100\n",
            "83/83 [==============================] - 0s 4ms/step - loss: 0.7155 - accuracy: 0.7268\n",
            "Epoch 58/100\n",
            "83/83 [==============================] - 0s 4ms/step - loss: 0.5138 - accuracy: 0.7674\n",
            "Epoch 59/100\n",
            "83/83 [==============================] - 0s 3ms/step - loss: 0.5975 - accuracy: 0.7484\n",
            "Epoch 60/100\n",
            "83/83 [==============================] - 0s 4ms/step - loss: 0.8407 - accuracy: 0.7309\n",
            "Epoch 61/100\n",
            "83/83 [==============================] - 0s 4ms/step - loss: 0.8824 - accuracy: 0.7343\n",
            "Epoch 62/100\n",
            "83/83 [==============================] - 0s 4ms/step - loss: 0.7324 - accuracy: 0.7450\n",
            "Epoch 63/100\n",
            "83/83 [==============================] - 0s 3ms/step - loss: 0.6319 - accuracy: 0.7461\n",
            "Epoch 64/100\n",
            "83/83 [==============================] - 0s 4ms/step - loss: 0.5326 - accuracy: 0.7545\n",
            "Epoch 65/100\n",
            "83/83 [==============================] - 0s 4ms/step - loss: 0.6482 - accuracy: 0.7427\n",
            "Epoch 66/100\n",
            "83/83 [==============================] - 0s 4ms/step - loss: 0.5749 - accuracy: 0.7526\n",
            "Epoch 67/100\n",
            "83/83 [==============================] - 0s 3ms/step - loss: 0.6511 - accuracy: 0.7374\n",
            "Epoch 68/100\n",
            "83/83 [==============================] - 0s 3ms/step - loss: 0.5210 - accuracy: 0.7632\n",
            "Epoch 69/100\n",
            "83/83 [==============================] - 0s 3ms/step - loss: 0.5312 - accuracy: 0.7556\n",
            "Epoch 70/100\n",
            "83/83 [==============================] - 0s 4ms/step - loss: 0.5127 - accuracy: 0.7685\n",
            "Epoch 71/100\n",
            "83/83 [==============================] - 0s 4ms/step - loss: 0.5754 - accuracy: 0.7586\n",
            "Epoch 72/100\n",
            "83/83 [==============================] - 0s 4ms/step - loss: 0.5185 - accuracy: 0.7537\n",
            "Epoch 73/100\n",
            "83/83 [==============================] - 0s 4ms/step - loss: 0.6333 - accuracy: 0.7495\n",
            "Epoch 74/100\n",
            "83/83 [==============================] - 0s 3ms/step - loss: 0.7802 - accuracy: 0.7302\n",
            "Epoch 75/100\n",
            "83/83 [==============================] - 0s 3ms/step - loss: 0.6587 - accuracy: 0.7419\n",
            "Epoch 76/100\n",
            "83/83 [==============================] - 0s 4ms/step - loss: 0.5524 - accuracy: 0.7632\n",
            "Epoch 77/100\n",
            "83/83 [==============================] - 0s 4ms/step - loss: 0.8649 - accuracy: 0.7271\n",
            "Epoch 78/100\n",
            "83/83 [==============================] - 0s 3ms/step - loss: 0.5405 - accuracy: 0.7647\n",
            "Epoch 79/100\n",
            "83/83 [==============================] - 0s 4ms/step - loss: 0.7086 - accuracy: 0.7324\n",
            "Epoch 80/100\n",
            "83/83 [==============================] - 0s 4ms/step - loss: 0.6599 - accuracy: 0.7400\n",
            "Epoch 81/100\n",
            "83/83 [==============================] - 0s 4ms/step - loss: 0.5335 - accuracy: 0.7613\n",
            "Epoch 82/100\n",
            "83/83 [==============================] - 0s 4ms/step - loss: 0.7135 - accuracy: 0.7313\n",
            "Epoch 83/100\n",
            "83/83 [==============================] - 0s 4ms/step - loss: 0.6720 - accuracy: 0.7465\n",
            "Epoch 84/100\n",
            "83/83 [==============================] - 0s 4ms/step - loss: 0.5506 - accuracy: 0.7548\n",
            "Epoch 85/100\n",
            "83/83 [==============================] - 0s 4ms/step - loss: 0.6028 - accuracy: 0.7457\n",
            "Epoch 86/100\n",
            "83/83 [==============================] - 0s 4ms/step - loss: 0.6268 - accuracy: 0.7431\n",
            "Epoch 87/100\n",
            "83/83 [==============================] - 0s 3ms/step - loss: 0.5217 - accuracy: 0.7651\n",
            "Epoch 88/100\n",
            "83/83 [==============================] - 0s 3ms/step - loss: 0.5387 - accuracy: 0.7624\n",
            "Epoch 89/100\n",
            "83/83 [==============================] - 0s 3ms/step - loss: 0.6376 - accuracy: 0.7461\n",
            "Epoch 90/100\n",
            "83/83 [==============================] - 0s 3ms/step - loss: 0.5463 - accuracy: 0.7613\n",
            "Epoch 91/100\n",
            "83/83 [==============================] - 0s 4ms/step - loss: 0.6511 - accuracy: 0.7529\n",
            "Epoch 92/100\n",
            "83/83 [==============================] - 0s 3ms/step - loss: 0.4923 - accuracy: 0.7787\n",
            "Epoch 93/100\n",
            "83/83 [==============================] - 0s 4ms/step - loss: 0.5243 - accuracy: 0.7564\n",
            "Epoch 94/100\n",
            "83/83 [==============================] - 0s 4ms/step - loss: 0.6375 - accuracy: 0.7427\n",
            "Epoch 95/100\n",
            "83/83 [==============================] - 0s 4ms/step - loss: 0.5295 - accuracy: 0.7677\n",
            "Epoch 96/100\n",
            "83/83 [==============================] - 0s 4ms/step - loss: 0.5188 - accuracy: 0.7677\n",
            "Epoch 97/100\n",
            "83/83 [==============================] - 0s 4ms/step - loss: 0.5433 - accuracy: 0.7647\n",
            "Epoch 98/100\n",
            "83/83 [==============================] - 0s 4ms/step - loss: 0.5311 - accuracy: 0.7651\n",
            "Epoch 99/100\n",
            "83/83 [==============================] - 0s 4ms/step - loss: 0.5421 - accuracy: 0.7602\n",
            "Epoch 100/100\n",
            "83/83 [==============================] - 0s 4ms/step - loss: 0.5269 - accuracy: 0.7617\n",
            "44/44 [==============================] - 0s 3ms/step - loss: 0.5036 - accuracy: 0.7534\n",
            "[0.5035593509674072, 0.7533759474754333]\n",
            "44/44 [==============================] - 0s 3ms/step\n",
            "Classification Report: \n",
            "               precision    recall  f1-score   support\n",
            "\n",
            "           0       0.90      0.75      0.82      1033\n",
            "           1       0.52      0.78      0.63       374\n",
            "\n",
            "    accuracy                           0.75      1407\n",
            "   macro avg       0.71      0.76      0.72      1407\n",
            "weighted avg       0.80      0.75      0.77      1407\n",
            "\n"
          ]
        }
      ]
    },
    {
      "cell_type": "markdown",
      "source": [
        "From these three models we will take predications based on **Majority Votes**.\n",
        "Let a = 0, b = 0, c = 1. Now majority vote is 0; i.e. a+b+c > 1 for majority vote of 1."
      ],
      "metadata": {
        "id": "33l9Ay02Uxdc"
      }
    },
    {
      "cell_type": "code",
      "source": [
        "y_pred_final = y_pred1.copy()\n",
        "for i in range(len(y_pred1)):\n",
        "    n_ones = y_pred1[i] + y_pred2[i] + y_pred3[i]\n",
        "    if n_ones>1:\n",
        "        y_pred_final[i] = 1\n",
        "    else:\n",
        "        y_pred_final[i] = 0"
      ],
      "metadata": {
        "id": "UTvAtPdgVOxI"
      },
      "execution_count": null,
      "outputs": []
    },
    {
      "cell_type": "code",
      "source": [
        "print(y_test)\n"
      ],
      "metadata": {
        "colab": {
          "base_uri": "https://localhost:8080/"
        },
        "id": "G93oZLOiwbxH",
        "outputId": "e928c4d5-9701-48b0-d379-506e646ba103"
      },
      "execution_count": null,
      "outputs": [
        {
          "output_type": "stream",
          "name": "stdout",
          "text": [
            "6581    0\n",
            "2317    0\n",
            "3522    0\n",
            "4533    0\n",
            "162     0\n",
            "       ..\n",
            "2981    0\n",
            "6446    0\n",
            "1457    0\n",
            "3526    1\n",
            "2498    0\n",
            "Name: Churn, Length: 1407, dtype: int64\n"
          ]
        }
      ]
    },
    {
      "cell_type": "code",
      "source": [
        "cl_rep = classification_report(y_test, y_pred_final)\n",
        "print(cl_rep)"
      ],
      "metadata": {
        "colab": {
          "base_uri": "https://localhost:8080/"
        },
        "id": "oP1KNM6rVVA9",
        "outputId": "06e3928e-3196-4bfa-acba-4aa835c5d2dd"
      },
      "execution_count": null,
      "outputs": [
        {
          "output_type": "stream",
          "name": "stdout",
          "text": [
            "              precision    recall  f1-score   support\n",
            "\n",
            "           0       0.91      0.72      0.80      1033\n",
            "           1       0.50      0.80      0.62       374\n",
            "\n",
            "    accuracy                           0.74      1407\n",
            "   macro avg       0.71      0.76      0.71      1407\n",
            "weighted avg       0.80      0.74      0.75      1407\n",
            "\n"
          ]
        }
      ]
    }
  ]
}